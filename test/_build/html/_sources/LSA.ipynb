{
 "cells": [
  {
   "cell_type": "markdown",
   "metadata": {
    "_uuid": "9341bf79ac503efb2b0c19cae84b17b48c30e211",
    "id": "fuPOaKbJKHdm"
   },
   "source": [
    "## Topic Modelling pada Web Mining"
   ]
  },
  {
   "cell_type": "markdown",
   "metadata": {
    "id": "HNu3u9PWFUwx"
   },
   "source": [
    "Langkah-langkah:\n",
    "\n",
    "\n",
    "1.   Crawling data\n",
    "2.   Preprocessing data (Cleansing data dan stopword)\n",
    "3.   Modelling LSA\n"
   ]
  },
  {
   "cell_type": "markdown",
   "metadata": {
    "id": "_2MdFXu_DgKQ"
   },
   "source": [
    "### 1. Pengertian Web Mining"
   ]
  },
  {
   "cell_type": "markdown",
   "metadata": {
    "_uuid": "3f9de996a68ce9d21cb302f795a0c8f667784879",
    "id": "yvSNjaAuKHdt"
   },
   "source": [
    "**Web Content Mining** merupakan suatu proses otomatis untuk menemukan\n",
    "informasi yang berguna dari dokumen atau data. Pada prinsipnya teknik ini mengekstraksi kata kunci yang terkandung pada dokumen. Teknik Web Content Mining berfokus pada penggalian informasi dari isi (content) yang ada pada sebuah web, seperti teks, gambar, audio, video, metadata dan hyperlink. Ada dua strategi yang umum digunakan:\n",
    "\n",
    "1.   Langsung melakukan mining terhadap data\n",
    "2.   Melakukan pencarian serta mengimprove hasil pencarian seperti layaknya search engine (Srivastava et al, 2000).\n",
    "\n",
    "\n",
    "Web Content Mining juga dapat disebut sebagai Web Text Mining yang dalam implementasi biasanya penggalian data terletak pada daerah teks. Teknik ini juga lebih banyak berhubungan dengan disiplin information retrieval (IR), tetapi dengan inovasi yang terus menerus dan seiring dengan perkembangan dunia teknologi informasi, secara dramatis akan meningkatkan akurasi dalam analisis dan mampu menghemat biaya (Hermanto dan Sartono, _). "
   ]
  },
  {
   "cell_type": "markdown",
   "metadata": {
    "_uuid": "827e42f1d6fbd87d0858fd90555a280782a2ed73",
    "id": "K6V3NidFKHdu"
   },
   "source": [
    "### 2. Pengertian Data Crawling"
   ]
  },
  {
   "cell_type": "markdown",
   "metadata": {
    "id": "NT2bbA_HEeIj"
   },
   "source": [
    "**Data Crawling** merupakan proses pengumpulan data sekunder yang mampu memilah informasi secara cepat dan otomatis tanpa ada reduplikasi data. Proses ini memiliki kaitan dengan data scraping. Begitu semua data telah terkumpul melalui crawling, data scraping akan mengeksekusinya.\n",
    "\n",
    "Dataset yang digunakan adalah hasil crawling data pada **Portal Tugas Akhir Universitas Trunojoyo Madura**. Dapat diakses melalui link https://pta.trunojoyo.ac.id/.\n",
    "\n",
    "Berikut adalah kode program untuk proses crawling data yang menghasilkan sejumlah 93 data. Dengan rincian terdapat 7 kolom yaitu kolom Judul, Penulis, Pembimbing 1, Pembimbing 2, abstrak, Kata Kunci dan Label. Untuk pelabelan dilakukan secara manual.\n",
    "\n",
    "Untuk video tutorialnya dapat diakses pada link Youtube berikut https://youtu.be/uDeoJtYMbEU."
   ]
  },
  {
   "cell_type": "markdown",
   "metadata": {
    "id": "rjgD6fTuIZEO"
   },
   "source": [
    "### 3. Preprocessing Data"
   ]
  },
  {
   "cell_type": "markdown",
   "metadata": {
    "id": "uX-MWMq-IjUU"
   },
   "source": [
    "**Data preprocessing** merupakan proses yang mengubah data mentah ke dalam bentuk yang lebih mudah dipahami. Proses ini penting dilakukan karena data mentah sering kali tidak memiliki format yang teratur. Selain itu, data mining juga tidak dapat memproses data mentah, sehingga proses ini sangat penting dilakukan untuk mempermudah proses berikutnya, yakni analisis data.\n",
    "\n",
    "Langkah-langkah preprocessing data:\n",
    "\n",
    "1.   Cleansing data\n",
    "2.   Stopword\n",
    "\n"
   ]
  },
  {
   "cell_type": "markdown",
   "metadata": {
    "_uuid": "6a503c2851673a3d3ec1eb2c3d6c6e5566292af1",
    "id": "o_q4rTvRKHdv"
   },
   "source": [
    "#### 1. Import Module"
   ]
  },
  {
   "cell_type": "code",
   "execution_count": 1,
   "metadata": {
    "_uuid": "39f140e85d319161012fb67f258dd6b339545b0a",
    "colab": {
     "base_uri": "https://localhost:8080/"
    },
    "id": "5O5_-2kTGD6V",
    "outputId": "27aacc21-d1f0-4ad1-da7b-47008e4ebd10"
   },
   "outputs": [
    {
     "name": "stderr",
     "output_type": "stream",
     "text": [
      "[nltk_data] Downloading package stopwords to C:\\Users\\Windows\n",
      "[nltk_data]     10\\AppData\\Roaming\\nltk_data...\n",
      "[nltk_data]   Package stopwords is already up-to-date!\n"
     ]
    }
   ],
   "source": [
    "# data visualisation and manipulation\n",
    "import numpy as np\n",
    "import pandas as pd\n",
    "import matplotlib.pyplot as plt\n",
    "from matplotlib import style\n",
    "import seaborn as sns\n",
    "import nltk\n",
    "nltk.download('stopwords')\n",
    "#configure\n",
    "# sets matplotlib to inline and displays graphs below the corressponding cell.\n",
    "%matplotlib inline  \n",
    "style.use('fivethirtyeight')\n",
    "sns.set(style='whitegrid',color_codes=True)\n",
    "\n",
    "#import nltk\n",
    "import nltk\n",
    "from nltk.corpus import stopwords\n",
    "from nltk.tokenize import word_tokenize,sent_tokenize\n",
    "\n",
    "#preprocessing\n",
    "from nltk.corpus import stopwords  #stopwords\n",
    "from nltk import word_tokenize,sent_tokenize # tokenizing\n",
    "from nltk.stem import PorterStemmer,LancasterStemmer  # using the Porter Stemmer and Lancaster Stemmer and others\n",
    "from nltk.stem.snowball import SnowballStemmer\n",
    "from nltk.stem import WordNetLemmatizer  # lammatizer from WordNet\n",
    "\n",
    "# for named entity recognition (NER)\n",
    "from nltk import ne_chunk\n",
    "\n",
    "# vectorizers for creating the document-term-matrix (DTM)\n",
    "from sklearn.feature_extraction.text import TfidfVectorizer,CountVectorizer\n",
    "\n",
    "#stop-words\n",
    "stop_words=set(nltk.corpus.stopwords.words('indonesian'))"
   ]
  },
  {
   "cell_type": "markdown",
   "metadata": {
    "_uuid": "a2b520342f1761de78285e76aa6327d9d37b1f4e",
    "id": "3ouo9M1tKHd1"
   },
   "source": [
    "#### 2. Memuat Dataset"
   ]
  },
  {
   "cell_type": "code",
   "execution_count": 2,
   "metadata": {
    "_uuid": "aad495ed355e99947bc3b9816cfad0ff430c17e5",
    "id": "xaPWCpthHVIS"
   },
   "outputs": [],
   "source": [
    "df=pd.read_csv(\"dataset.csv\")"
   ]
  },
  {
   "cell_type": "code",
   "execution_count": 3,
   "metadata": {
    "_uuid": "e09dd69ffa2bae1920f3e10b1af0a8ce0f8ae16d",
    "colab": {
     "base_uri": "https://localhost:8080/",
     "height": 641
    },
    "id": "Wwf4uKjTIYm2",
    "outputId": "a1a000fa-5dc4-4b66-92da-7999104e5301"
   },
   "outputs": [
    {
     "data": {
      "text/html": [
       "<div>\n",
       "<style scoped>\n",
       "    .dataframe tbody tr th:only-of-type {\n",
       "        vertical-align: middle;\n",
       "    }\n",
       "\n",
       "    .dataframe tbody tr th {\n",
       "        vertical-align: top;\n",
       "    }\n",
       "\n",
       "    .dataframe thead th {\n",
       "        text-align: right;\n",
       "    }\n",
       "</style>\n",
       "<table border=\"1\" class=\"dataframe\">\n",
       "  <thead>\n",
       "    <tr style=\"text-align: right;\">\n",
       "      <th></th>\n",
       "      <th>Dokumen</th>\n",
       "      <th>abstrak</th>\n",
       "    </tr>\n",
       "  </thead>\n",
       "  <tbody>\n",
       "    <tr>\n",
       "      <th>0</th>\n",
       "      <td>1</td>\n",
       "      <td>Tujuan penelitian ini adalah untuk mengidentif...</td>\n",
       "    </tr>\n",
       "    <tr>\n",
       "      <th>1</th>\n",
       "      <td>2</td>\n",
       "      <td>Tujuan penelitian ini adalah untuk mengetahui ...</td>\n",
       "    </tr>\n",
       "    <tr>\n",
       "      <th>2</th>\n",
       "      <td>3</td>\n",
       "      <td>Tujuan penelitian ini adalah mendeskripsikan i...</td>\n",
       "    </tr>\n",
       "    <tr>\n",
       "      <th>3</th>\n",
       "      <td>4</td>\n",
       "      <td>PLN merupakan Badan Usaha Milik Negara yang be...</td>\n",
       "    </tr>\n",
       "    <tr>\n",
       "      <th>4</th>\n",
       "      <td>5</td>\n",
       "      <td>Penelitian ini mengungkapkan beberapa rumusan ...</td>\n",
       "    </tr>\n",
       "    <tr>\n",
       "      <th>5</th>\n",
       "      <td>6</td>\n",
       "      <td>Haryono Arifin, Pengaruh Perilaku Konsumen Ter...</td>\n",
       "    </tr>\n",
       "    <tr>\n",
       "      <th>6</th>\n",
       "      <td>7</td>\n",
       "      <td>Hasil dari penelitian ini dari perhitungan Cre...</td>\n",
       "    </tr>\n",
       "    <tr>\n",
       "      <th>7</th>\n",
       "      <td>8</td>\n",
       "      <td>Dharma Abidin Syah,Kesimpulan: (1) Terdapat pe...</td>\n",
       "    </tr>\n",
       "    <tr>\n",
       "      <th>8</th>\n",
       "      <td>9</td>\n",
       "      <td>Tujuan penelitian ini adalah untuk mengidentif...</td>\n",
       "    </tr>\n",
       "    <tr>\n",
       "      <th>9</th>\n",
       "      <td>10</td>\n",
       "      <td>Penelitian ini menggunakan metode kuantitatif,...</td>\n",
       "    </tr>\n",
       "    <tr>\n",
       "      <th>10</th>\n",
       "      <td>11</td>\n",
       "      <td>Tujuan penelitian ini adalah untuk mengetahui ...</td>\n",
       "    </tr>\n",
       "    <tr>\n",
       "      <th>11</th>\n",
       "      <td>12</td>\n",
       "      <td>Aplikasi nyata pemanfaatan teknologi informasi...</td>\n",
       "    </tr>\n",
       "    <tr>\n",
       "      <th>12</th>\n",
       "      <td>13</td>\n",
       "      <td>Penelitian ini bertujuan untuk mengukur efekti...</td>\n",
       "    </tr>\n",
       "    <tr>\n",
       "      <th>13</th>\n",
       "      <td>14</td>\n",
       "      <td>Ali Rahbini, Pengaruh Harga dan Kualitas Pelay...</td>\n",
       "    </tr>\n",
       "    <tr>\n",
       "      <th>14</th>\n",
       "      <td>15</td>\n",
       "      <td>Bauran eceran merupakan salah satu langkah pem...</td>\n",
       "    </tr>\n",
       "    <tr>\n",
       "      <th>15</th>\n",
       "      <td>16</td>\n",
       "      <td>Tujuan penelitian ini adalah mengetahui pengar...</td>\n",
       "    </tr>\n",
       "    <tr>\n",
       "      <th>16</th>\n",
       "      <td>17</td>\n",
       "      <td>Ulfiyatun Mutohharoh, “Analisis Faktor-faktor ...</td>\n",
       "    </tr>\n",
       "    <tr>\n",
       "      <th>17</th>\n",
       "      <td>18</td>\n",
       "      <td>Tujuan penelitian ini adalah untuk menganalisi...</td>\n",
       "    </tr>\n",
       "    <tr>\n",
       "      <th>18</th>\n",
       "      <td>19</td>\n",
       "      <td>Tujuan penlitian ini adalah (1) untuk mengetah...</td>\n",
       "    </tr>\n",
       "    <tr>\n",
       "      <th>19</th>\n",
       "      <td>20</td>\n",
       "      <td>Tujuan penelitian ini adalah (1) untuk mengeta...</td>\n",
       "    </tr>\n",
       "    <tr>\n",
       "      <th>20</th>\n",
       "      <td>21</td>\n",
       "      <td>Tujuan penelitian ini adalah untuk mengetahui ...</td>\n",
       "    </tr>\n",
       "    <tr>\n",
       "      <th>21</th>\n",
       "      <td>22</td>\n",
       "      <td>Tujuan penelitian ini adalah untuk mengetahui ...</td>\n",
       "    </tr>\n",
       "    <tr>\n",
       "      <th>22</th>\n",
       "      <td>23</td>\n",
       "      <td>Tujuan penelitian ini adalah (1) untuk mengeta...</td>\n",
       "    </tr>\n",
       "    <tr>\n",
       "      <th>23</th>\n",
       "      <td>24</td>\n",
       "      <td>Penelitian ini bertujuan untuk mengetahui peng...</td>\n",
       "    </tr>\n",
       "    <tr>\n",
       "      <th>24</th>\n",
       "      <td>25</td>\n",
       "      <td>Tujuan penelitian ini adalah untuk mengidentif...</td>\n",
       "    </tr>\n",
       "    <tr>\n",
       "      <th>25</th>\n",
       "      <td>26</td>\n",
       "      <td>Anissa Novianti. 090211100010. Pengaruh Atribu...</td>\n",
       "    </tr>\n",
       "    <tr>\n",
       "      <th>26</th>\n",
       "      <td>27</td>\n",
       "      <td>Tujuan penelitian ini adalah untuk : (1) menge...</td>\n",
       "    </tr>\n",
       "    <tr>\n",
       "      <th>27</th>\n",
       "      <td>28</td>\n",
       "      <td>Tujuan penelitian ini adalah untuk mengetahui ...</td>\n",
       "    </tr>\n",
       "    <tr>\n",
       "      <th>28</th>\n",
       "      <td>29</td>\n",
       "      <td>Muzanni, Peranan Manajemen Piutang tertahadap ...</td>\n",
       "    </tr>\n",
       "    <tr>\n",
       "      <th>29</th>\n",
       "      <td>30</td>\n",
       "      <td>KUSNIYAH, Analisis Volume Perdagangan Saham da...</td>\n",
       "    </tr>\n",
       "    <tr>\n",
       "      <th>30</th>\n",
       "      <td>31</td>\n",
       "      <td>Tujuan penelitian ini adalah untuk mengetahui ...</td>\n",
       "    </tr>\n",
       "    <tr>\n",
       "      <th>31</th>\n",
       "      <td>32</td>\n",
       "      <td>Muhammad Sholeh, Pengaruh Iklan Di Televisi Te...</td>\n",
       "    </tr>\n",
       "    <tr>\n",
       "      <th>32</th>\n",
       "      <td>33</td>\n",
       "      <td>Tujuan dari penelitian ini adalah untuk menget...</td>\n",
       "    </tr>\n",
       "    <tr>\n",
       "      <th>33</th>\n",
       "      <td>34</td>\n",
       "      <td>Tujuan penelitian ini adalah untuk mengetahui ...</td>\n",
       "    </tr>\n",
       "    <tr>\n",
       "      <th>34</th>\n",
       "      <td>35</td>\n",
       "      <td>Tujuan penelitian ini adalah untuk mengetahui ...</td>\n",
       "    </tr>\n",
       "    <tr>\n",
       "      <th>35</th>\n",
       "      <td>36</td>\n",
       "      <td>Diana Agustini Dewi, 2013. “Analisis Kinerja K...</td>\n",
       "    </tr>\n",
       "    <tr>\n",
       "      <th>36</th>\n",
       "      <td>37</td>\n",
       "      <td>Pengaruh Bundling Strategy Terhadap Keputusan ...</td>\n",
       "    </tr>\n",
       "    <tr>\n",
       "      <th>37</th>\n",
       "      <td>38</td>\n",
       "      <td>Pendekatan penelitian yang digunakan dalam pen...</td>\n",
       "    </tr>\n",
       "    <tr>\n",
       "      <th>38</th>\n",
       "      <td>39</td>\n",
       "      <td>Kenaikan harga yang terlalu tinggi, akan menye...</td>\n",
       "    </tr>\n",
       "    <tr>\n",
       "      <th>39</th>\n",
       "      <td>40</td>\n",
       "      <td>Tujuan penelitian ini adalah untuk mengetahui ...</td>\n",
       "    </tr>\n",
       "    <tr>\n",
       "      <th>40</th>\n",
       "      <td>41</td>\n",
       "      <td>Intention of this research is to know influenc...</td>\n",
       "    </tr>\n",
       "    <tr>\n",
       "      <th>41</th>\n",
       "      <td>42</td>\n",
       "      <td>Objek penelitian ini adalah pembelian produk X...</td>\n",
       "    </tr>\n",
       "    <tr>\n",
       "      <th>42</th>\n",
       "      <td>43</td>\n",
       "      <td>Penelitian ini bertujuan untuk mengetahui peng...</td>\n",
       "    </tr>\n",
       "    <tr>\n",
       "      <th>43</th>\n",
       "      <td>44</td>\n",
       "      <td>Munculnya asumsi bahwa lahirnya budaya mengemi...</td>\n",
       "    </tr>\n",
       "    <tr>\n",
       "      <th>44</th>\n",
       "      <td>45</td>\n",
       "      <td>USWATUN KHASANAH, “Pengaruh Etos Kerja Terhada...</td>\n",
       "    </tr>\n",
       "    <tr>\n",
       "      <th>45</th>\n",
       "      <td>46</td>\n",
       "      <td>Penelitian ini bertujuan untuk meneliti apakah...</td>\n",
       "    </tr>\n",
       "    <tr>\n",
       "      <th>46</th>\n",
       "      <td>47</td>\n",
       "      <td>Tujuan penelitian ini adalah untuk mengetahui ...</td>\n",
       "    </tr>\n",
       "    <tr>\n",
       "      <th>47</th>\n",
       "      <td>48</td>\n",
       "      <td>Atribut produk memberikan pandangan atau gamba...</td>\n",
       "    </tr>\n",
       "    <tr>\n",
       "      <th>48</th>\n",
       "      <td>49</td>\n",
       "      <td>Habibah, “Pengaruh Ekuitas Merek Terhadap Kepu...</td>\n",
       "    </tr>\n",
       "    <tr>\n",
       "      <th>49</th>\n",
       "      <td>50</td>\n",
       "      <td>Hening Ary Putra, Pengaruh Iklan Online Melalu...</td>\n",
       "    </tr>\n",
       "    <tr>\n",
       "      <th>50</th>\n",
       "      <td>51</td>\n",
       "      <td>Penelitian ini bertujuan untuk mengetahui peng...</td>\n",
       "    </tr>\n",
       "    <tr>\n",
       "      <th>51</th>\n",
       "      <td>52</td>\n",
       "      <td>Satiyah, Pengaruh Faktor-faktor Pelatihan dan ...</td>\n",
       "    </tr>\n",
       "    <tr>\n",
       "      <th>52</th>\n",
       "      <td>53</td>\n",
       "      <td>Aththaariq, Pengaruh Kompetensi Dosen Terhadap...</td>\n",
       "    </tr>\n",
       "    <tr>\n",
       "      <th>53</th>\n",
       "      <td>54</td>\n",
       "      <td>Suatu keputusan investasi selalu berhubungan d...</td>\n",
       "    </tr>\n",
       "  </tbody>\n",
       "</table>\n",
       "</div>"
      ],
      "text/plain": [
       "    Dokumen                                            abstrak\n",
       "0         1  Tujuan penelitian ini adalah untuk mengidentif...\n",
       "1         2  Tujuan penelitian ini adalah untuk mengetahui ...\n",
       "2         3  Tujuan penelitian ini adalah mendeskripsikan i...\n",
       "3         4  PLN merupakan Badan Usaha Milik Negara yang be...\n",
       "4         5  Penelitian ini mengungkapkan beberapa rumusan ...\n",
       "5         6  Haryono Arifin, Pengaruh Perilaku Konsumen Ter...\n",
       "6         7  Hasil dari penelitian ini dari perhitungan Cre...\n",
       "7         8  Dharma Abidin Syah,Kesimpulan: (1) Terdapat pe...\n",
       "8         9  Tujuan penelitian ini adalah untuk mengidentif...\n",
       "9        10  Penelitian ini menggunakan metode kuantitatif,...\n",
       "10       11  Tujuan penelitian ini adalah untuk mengetahui ...\n",
       "11       12  Aplikasi nyata pemanfaatan teknologi informasi...\n",
       "12       13  Penelitian ini bertujuan untuk mengukur efekti...\n",
       "13       14  Ali Rahbini, Pengaruh Harga dan Kualitas Pelay...\n",
       "14       15  Bauran eceran merupakan salah satu langkah pem...\n",
       "15       16  Tujuan penelitian ini adalah mengetahui pengar...\n",
       "16       17  Ulfiyatun Mutohharoh, “Analisis Faktor-faktor ...\n",
       "17       18  Tujuan penelitian ini adalah untuk menganalisi...\n",
       "18       19  Tujuan penlitian ini adalah (1) untuk mengetah...\n",
       "19       20  Tujuan penelitian ini adalah (1) untuk mengeta...\n",
       "20       21  Tujuan penelitian ini adalah untuk mengetahui ...\n",
       "21       22  Tujuan penelitian ini adalah untuk mengetahui ...\n",
       "22       23  Tujuan penelitian ini adalah (1) untuk mengeta...\n",
       "23       24  Penelitian ini bertujuan untuk mengetahui peng...\n",
       "24       25  Tujuan penelitian ini adalah untuk mengidentif...\n",
       "25       26  Anissa Novianti. 090211100010. Pengaruh Atribu...\n",
       "26       27  Tujuan penelitian ini adalah untuk : (1) menge...\n",
       "27       28  Tujuan penelitian ini adalah untuk mengetahui ...\n",
       "28       29  Muzanni, Peranan Manajemen Piutang tertahadap ...\n",
       "29       30  KUSNIYAH, Analisis Volume Perdagangan Saham da...\n",
       "30       31  Tujuan penelitian ini adalah untuk mengetahui ...\n",
       "31       32  Muhammad Sholeh, Pengaruh Iklan Di Televisi Te...\n",
       "32       33  Tujuan dari penelitian ini adalah untuk menget...\n",
       "33       34  Tujuan penelitian ini adalah untuk mengetahui ...\n",
       "34       35  Tujuan penelitian ini adalah untuk mengetahui ...\n",
       "35       36  Diana Agustini Dewi, 2013. “Analisis Kinerja K...\n",
       "36       37  Pengaruh Bundling Strategy Terhadap Keputusan ...\n",
       "37       38  Pendekatan penelitian yang digunakan dalam pen...\n",
       "38       39  Kenaikan harga yang terlalu tinggi, akan menye...\n",
       "39       40  Tujuan penelitian ini adalah untuk mengetahui ...\n",
       "40       41  Intention of this research is to know influenc...\n",
       "41       42  Objek penelitian ini adalah pembelian produk X...\n",
       "42       43  Penelitian ini bertujuan untuk mengetahui peng...\n",
       "43       44  Munculnya asumsi bahwa lahirnya budaya mengemi...\n",
       "44       45  USWATUN KHASANAH, “Pengaruh Etos Kerja Terhada...\n",
       "45       46  Penelitian ini bertujuan untuk meneliti apakah...\n",
       "46       47  Tujuan penelitian ini adalah untuk mengetahui ...\n",
       "47       48  Atribut produk memberikan pandangan atau gamba...\n",
       "48       49  Habibah, “Pengaruh Ekuitas Merek Terhadap Kepu...\n",
       "49       50  Hening Ary Putra, Pengaruh Iklan Online Melalu...\n",
       "50       51  Penelitian ini bertujuan untuk mengetahui peng...\n",
       "51       52  Satiyah, Pengaruh Faktor-faktor Pelatihan dan ...\n",
       "52       53  Aththaariq, Pengaruh Kompetensi Dosen Terhadap...\n",
       "53       54  Suatu keputusan investasi selalu berhubungan d..."
      ]
     },
     "execution_count": 3,
     "metadata": {},
     "output_type": "execute_result"
    }
   ],
   "source": [
    "df.head(54)"
   ]
  },
  {
   "cell_type": "markdown",
   "metadata": {
    "_uuid": "ece312ea148c498c5584e83f6a36fce2dc236198",
    "id": "7zBE_VHvKHd5"
   },
   "source": [
    "Hanya kolom **'abstrak'** yang akan diproses."
   ]
  },
  {
   "cell_type": "code",
   "execution_count": 4,
   "metadata": {
    "_uuid": "2a6df530624e3b9c3cfb43659ba9c0f67e2aa1d4",
    "id": "wiuusKeEIr_o"
   },
   "outputs": [],
   "source": [
    "# drop the publish date.\n",
    "df.drop(['Dokumen'],axis=1,inplace=True)"
   ]
  },
  {
   "cell_type": "code",
   "execution_count": 5,
   "metadata": {
    "_uuid": "bd907b93c352fce35e8e6a886c01e9cf344ce455",
    "colab": {
     "base_uri": "https://localhost:8080/",
     "height": 424
    },
    "id": "FxegmHWtI3eJ",
    "outputId": "04fae013-19f2-42f5-a7e9-1a58ff7f7d74"
   },
   "outputs": [
    {
     "data": {
      "text/html": [
       "<div>\n",
       "<style scoped>\n",
       "    .dataframe tbody tr th:only-of-type {\n",
       "        vertical-align: middle;\n",
       "    }\n",
       "\n",
       "    .dataframe tbody tr th {\n",
       "        vertical-align: top;\n",
       "    }\n",
       "\n",
       "    .dataframe thead th {\n",
       "        text-align: right;\n",
       "    }\n",
       "</style>\n",
       "<table border=\"1\" class=\"dataframe\">\n",
       "  <thead>\n",
       "    <tr style=\"text-align: right;\">\n",
       "      <th></th>\n",
       "      <th>abstrak</th>\n",
       "    </tr>\n",
       "  </thead>\n",
       "  <tbody>\n",
       "    <tr>\n",
       "      <th>0</th>\n",
       "      <td>Tujuan penelitian ini adalah untuk mengidentif...</td>\n",
       "    </tr>\n",
       "    <tr>\n",
       "      <th>1</th>\n",
       "      <td>Tujuan penelitian ini adalah untuk mengetahui ...</td>\n",
       "    </tr>\n",
       "    <tr>\n",
       "      <th>2</th>\n",
       "      <td>Tujuan penelitian ini adalah mendeskripsikan i...</td>\n",
       "    </tr>\n",
       "    <tr>\n",
       "      <th>3</th>\n",
       "      <td>PLN merupakan Badan Usaha Milik Negara yang be...</td>\n",
       "    </tr>\n",
       "    <tr>\n",
       "      <th>4</th>\n",
       "      <td>Penelitian ini mengungkapkan beberapa rumusan ...</td>\n",
       "    </tr>\n",
       "    <tr>\n",
       "      <th>5</th>\n",
       "      <td>Haryono Arifin, Pengaruh Perilaku Konsumen Ter...</td>\n",
       "    </tr>\n",
       "    <tr>\n",
       "      <th>6</th>\n",
       "      <td>Hasil dari penelitian ini dari perhitungan Cre...</td>\n",
       "    </tr>\n",
       "    <tr>\n",
       "      <th>7</th>\n",
       "      <td>Dharma Abidin Syah,Kesimpulan: (1) Terdapat pe...</td>\n",
       "    </tr>\n",
       "    <tr>\n",
       "      <th>8</th>\n",
       "      <td>Tujuan penelitian ini adalah untuk mengidentif...</td>\n",
       "    </tr>\n",
       "    <tr>\n",
       "      <th>9</th>\n",
       "      <td>Penelitian ini menggunakan metode kuantitatif,...</td>\n",
       "    </tr>\n",
       "    <tr>\n",
       "      <th>10</th>\n",
       "      <td>Tujuan penelitian ini adalah untuk mengetahui ...</td>\n",
       "    </tr>\n",
       "    <tr>\n",
       "      <th>11</th>\n",
       "      <td>Aplikasi nyata pemanfaatan teknologi informasi...</td>\n",
       "    </tr>\n",
       "    <tr>\n",
       "      <th>12</th>\n",
       "      <td>Penelitian ini bertujuan untuk mengukur efekti...</td>\n",
       "    </tr>\n",
       "    <tr>\n",
       "      <th>13</th>\n",
       "      <td>Ali Rahbini, Pengaruh Harga dan Kualitas Pelay...</td>\n",
       "    </tr>\n",
       "    <tr>\n",
       "      <th>14</th>\n",
       "      <td>Bauran eceran merupakan salah satu langkah pem...</td>\n",
       "    </tr>\n",
       "    <tr>\n",
       "      <th>15</th>\n",
       "      <td>Tujuan penelitian ini adalah mengetahui pengar...</td>\n",
       "    </tr>\n",
       "    <tr>\n",
       "      <th>16</th>\n",
       "      <td>Ulfiyatun Mutohharoh, “Analisis Faktor-faktor ...</td>\n",
       "    </tr>\n",
       "    <tr>\n",
       "      <th>17</th>\n",
       "      <td>Tujuan penelitian ini adalah untuk menganalisi...</td>\n",
       "    </tr>\n",
       "    <tr>\n",
       "      <th>18</th>\n",
       "      <td>Tujuan penlitian ini adalah (1) untuk mengetah...</td>\n",
       "    </tr>\n",
       "    <tr>\n",
       "      <th>19</th>\n",
       "      <td>Tujuan penelitian ini adalah (1) untuk mengeta...</td>\n",
       "    </tr>\n",
       "    <tr>\n",
       "      <th>20</th>\n",
       "      <td>Tujuan penelitian ini adalah untuk mengetahui ...</td>\n",
       "    </tr>\n",
       "    <tr>\n",
       "      <th>21</th>\n",
       "      <td>Tujuan penelitian ini adalah untuk mengetahui ...</td>\n",
       "    </tr>\n",
       "    <tr>\n",
       "      <th>22</th>\n",
       "      <td>Tujuan penelitian ini adalah (1) untuk mengeta...</td>\n",
       "    </tr>\n",
       "    <tr>\n",
       "      <th>23</th>\n",
       "      <td>Penelitian ini bertujuan untuk mengetahui peng...</td>\n",
       "    </tr>\n",
       "    <tr>\n",
       "      <th>24</th>\n",
       "      <td>Tujuan penelitian ini adalah untuk mengidentif...</td>\n",
       "    </tr>\n",
       "    <tr>\n",
       "      <th>25</th>\n",
       "      <td>Anissa Novianti. 090211100010. Pengaruh Atribu...</td>\n",
       "    </tr>\n",
       "    <tr>\n",
       "      <th>26</th>\n",
       "      <td>Tujuan penelitian ini adalah untuk : (1) menge...</td>\n",
       "    </tr>\n",
       "    <tr>\n",
       "      <th>27</th>\n",
       "      <td>Tujuan penelitian ini adalah untuk mengetahui ...</td>\n",
       "    </tr>\n",
       "    <tr>\n",
       "      <th>28</th>\n",
       "      <td>Muzanni, Peranan Manajemen Piutang tertahadap ...</td>\n",
       "    </tr>\n",
       "    <tr>\n",
       "      <th>29</th>\n",
       "      <td>KUSNIYAH, Analisis Volume Perdagangan Saham da...</td>\n",
       "    </tr>\n",
       "    <tr>\n",
       "      <th>30</th>\n",
       "      <td>Tujuan penelitian ini adalah untuk mengetahui ...</td>\n",
       "    </tr>\n",
       "    <tr>\n",
       "      <th>31</th>\n",
       "      <td>Muhammad Sholeh, Pengaruh Iklan Di Televisi Te...</td>\n",
       "    </tr>\n",
       "    <tr>\n",
       "      <th>32</th>\n",
       "      <td>Tujuan dari penelitian ini adalah untuk menget...</td>\n",
       "    </tr>\n",
       "    <tr>\n",
       "      <th>33</th>\n",
       "      <td>Tujuan penelitian ini adalah untuk mengetahui ...</td>\n",
       "    </tr>\n",
       "    <tr>\n",
       "      <th>34</th>\n",
       "      <td>Tujuan penelitian ini adalah untuk mengetahui ...</td>\n",
       "    </tr>\n",
       "    <tr>\n",
       "      <th>35</th>\n",
       "      <td>Diana Agustini Dewi, 2013. “Analisis Kinerja K...</td>\n",
       "    </tr>\n",
       "    <tr>\n",
       "      <th>36</th>\n",
       "      <td>Pengaruh Bundling Strategy Terhadap Keputusan ...</td>\n",
       "    </tr>\n",
       "    <tr>\n",
       "      <th>37</th>\n",
       "      <td>Pendekatan penelitian yang digunakan dalam pen...</td>\n",
       "    </tr>\n",
       "    <tr>\n",
       "      <th>38</th>\n",
       "      <td>Kenaikan harga yang terlalu tinggi, akan menye...</td>\n",
       "    </tr>\n",
       "    <tr>\n",
       "      <th>39</th>\n",
       "      <td>Tujuan penelitian ini adalah untuk mengetahui ...</td>\n",
       "    </tr>\n",
       "    <tr>\n",
       "      <th>40</th>\n",
       "      <td>Intention of this research is to know influenc...</td>\n",
       "    </tr>\n",
       "    <tr>\n",
       "      <th>41</th>\n",
       "      <td>Objek penelitian ini adalah pembelian produk X...</td>\n",
       "    </tr>\n",
       "    <tr>\n",
       "      <th>42</th>\n",
       "      <td>Penelitian ini bertujuan untuk mengetahui peng...</td>\n",
       "    </tr>\n",
       "    <tr>\n",
       "      <th>43</th>\n",
       "      <td>Munculnya asumsi bahwa lahirnya budaya mengemi...</td>\n",
       "    </tr>\n",
       "    <tr>\n",
       "      <th>44</th>\n",
       "      <td>USWATUN KHASANAH, “Pengaruh Etos Kerja Terhada...</td>\n",
       "    </tr>\n",
       "    <tr>\n",
       "      <th>45</th>\n",
       "      <td>Penelitian ini bertujuan untuk meneliti apakah...</td>\n",
       "    </tr>\n",
       "    <tr>\n",
       "      <th>46</th>\n",
       "      <td>Tujuan penelitian ini adalah untuk mengetahui ...</td>\n",
       "    </tr>\n",
       "    <tr>\n",
       "      <th>47</th>\n",
       "      <td>Atribut produk memberikan pandangan atau gamba...</td>\n",
       "    </tr>\n",
       "    <tr>\n",
       "      <th>48</th>\n",
       "      <td>Habibah, “Pengaruh Ekuitas Merek Terhadap Kepu...</td>\n",
       "    </tr>\n",
       "    <tr>\n",
       "      <th>49</th>\n",
       "      <td>Hening Ary Putra, Pengaruh Iklan Online Melalu...</td>\n",
       "    </tr>\n",
       "    <tr>\n",
       "      <th>50</th>\n",
       "      <td>Penelitian ini bertujuan untuk mengetahui peng...</td>\n",
       "    </tr>\n",
       "    <tr>\n",
       "      <th>51</th>\n",
       "      <td>Satiyah, Pengaruh Faktor-faktor Pelatihan dan ...</td>\n",
       "    </tr>\n",
       "    <tr>\n",
       "      <th>52</th>\n",
       "      <td>Aththaariq, Pengaruh Kompetensi Dosen Terhadap...</td>\n",
       "    </tr>\n",
       "    <tr>\n",
       "      <th>53</th>\n",
       "      <td>Suatu keputusan investasi selalu berhubungan d...</td>\n",
       "    </tr>\n",
       "  </tbody>\n",
       "</table>\n",
       "</div>"
      ],
      "text/plain": [
       "                                              abstrak\n",
       "0   Tujuan penelitian ini adalah untuk mengidentif...\n",
       "1   Tujuan penelitian ini adalah untuk mengetahui ...\n",
       "2   Tujuan penelitian ini adalah mendeskripsikan i...\n",
       "3   PLN merupakan Badan Usaha Milik Negara yang be...\n",
       "4   Penelitian ini mengungkapkan beberapa rumusan ...\n",
       "5   Haryono Arifin, Pengaruh Perilaku Konsumen Ter...\n",
       "6   Hasil dari penelitian ini dari perhitungan Cre...\n",
       "7   Dharma Abidin Syah,Kesimpulan: (1) Terdapat pe...\n",
       "8   Tujuan penelitian ini adalah untuk mengidentif...\n",
       "9   Penelitian ini menggunakan metode kuantitatif,...\n",
       "10  Tujuan penelitian ini adalah untuk mengetahui ...\n",
       "11  Aplikasi nyata pemanfaatan teknologi informasi...\n",
       "12  Penelitian ini bertujuan untuk mengukur efekti...\n",
       "13  Ali Rahbini, Pengaruh Harga dan Kualitas Pelay...\n",
       "14  Bauran eceran merupakan salah satu langkah pem...\n",
       "15  Tujuan penelitian ini adalah mengetahui pengar...\n",
       "16  Ulfiyatun Mutohharoh, “Analisis Faktor-faktor ...\n",
       "17  Tujuan penelitian ini adalah untuk menganalisi...\n",
       "18  Tujuan penlitian ini adalah (1) untuk mengetah...\n",
       "19  Tujuan penelitian ini adalah (1) untuk mengeta...\n",
       "20  Tujuan penelitian ini adalah untuk mengetahui ...\n",
       "21  Tujuan penelitian ini adalah untuk mengetahui ...\n",
       "22  Tujuan penelitian ini adalah (1) untuk mengeta...\n",
       "23  Penelitian ini bertujuan untuk mengetahui peng...\n",
       "24  Tujuan penelitian ini adalah untuk mengidentif...\n",
       "25  Anissa Novianti. 090211100010. Pengaruh Atribu...\n",
       "26  Tujuan penelitian ini adalah untuk : (1) menge...\n",
       "27  Tujuan penelitian ini adalah untuk mengetahui ...\n",
       "28  Muzanni, Peranan Manajemen Piutang tertahadap ...\n",
       "29  KUSNIYAH, Analisis Volume Perdagangan Saham da...\n",
       "30  Tujuan penelitian ini adalah untuk mengetahui ...\n",
       "31  Muhammad Sholeh, Pengaruh Iklan Di Televisi Te...\n",
       "32  Tujuan dari penelitian ini adalah untuk menget...\n",
       "33  Tujuan penelitian ini adalah untuk mengetahui ...\n",
       "34  Tujuan penelitian ini adalah untuk mengetahui ...\n",
       "35  Diana Agustini Dewi, 2013. “Analisis Kinerja K...\n",
       "36  Pengaruh Bundling Strategy Terhadap Keputusan ...\n",
       "37  Pendekatan penelitian yang digunakan dalam pen...\n",
       "38  Kenaikan harga yang terlalu tinggi, akan menye...\n",
       "39  Tujuan penelitian ini adalah untuk mengetahui ...\n",
       "40  Intention of this research is to know influenc...\n",
       "41  Objek penelitian ini adalah pembelian produk X...\n",
       "42  Penelitian ini bertujuan untuk mengetahui peng...\n",
       "43  Munculnya asumsi bahwa lahirnya budaya mengemi...\n",
       "44  USWATUN KHASANAH, “Pengaruh Etos Kerja Terhada...\n",
       "45  Penelitian ini bertujuan untuk meneliti apakah...\n",
       "46  Tujuan penelitian ini adalah untuk mengetahui ...\n",
       "47  Atribut produk memberikan pandangan atau gamba...\n",
       "48  Habibah, “Pengaruh Ekuitas Merek Terhadap Kepu...\n",
       "49  Hening Ary Putra, Pengaruh Iklan Online Melalu...\n",
       "50  Penelitian ini bertujuan untuk mengetahui peng...\n",
       "51  Satiyah, Pengaruh Faktor-faktor Pelatihan dan ...\n",
       "52  Aththaariq, Pengaruh Kompetensi Dosen Terhadap...\n",
       "53  Suatu keputusan investasi selalu berhubungan d..."
      ]
     },
     "execution_count": 5,
     "metadata": {},
     "output_type": "execute_result"
    }
   ],
   "source": [
    "df.head(54)"
   ]
  },
  {
   "cell_type": "markdown",
   "metadata": {
    "_uuid": "2043c3fc7cb55f29282da53bf8ce8315aec19556",
    "id": "22XZMNvXKHd8"
   },
   "source": [
    "#### 3. Cleaning Data dan Preprocessing Data"
   ]
  },
  {
   "cell_type": "markdown",
   "metadata": {
    "_uuid": "dbd9e74a45cef82d83251327066f919c2a7ee08b",
    "id": "iOpkMoM_KHd8"
   },
   "source": [
    "Proses ini merupakan preprocessing data dengan menggunakan lemmatizer dan bisa juga menggunakan stemmer. Melakukan stopword pada kata yang telah digunakan bersama dengan kata-kata dengan panjang lebih pendek dari 3 karakter untuk mengurangi beberapa kata yang menyimpang."
   ]
  },
  {
   "cell_type": "code",
   "execution_count": 6,
   "metadata": {
    "_uuid": "c01abf16fc6c3b72873a40246d88f4f2d84af6a6",
    "id": "10MF-YmnI7vp"
   },
   "outputs": [],
   "source": [
    "def clean_text(headline):\n",
    "  le=WordNetLemmatizer()\n",
    "  word_tokens=word_tokenize(headline)\n",
    "  tokens=[le.lemmatize(w) for w in word_tokens if w not in stop_words and len(w)>3]\n",
    "  cleaned_text=\" \".join(tokens)\n",
    "  return cleaned_text"
   ]
  },
  {
   "cell_type": "code",
   "execution_count": 7,
   "metadata": {
    "_uuid": "0249f1e9dc0d448aa55778d88b17380cbb099b27",
    "colab": {
     "base_uri": "https://localhost:8080/"
    },
    "id": "J9cX-1YxSisp",
    "outputId": "56310b6c-3e2f-43f7-887b-708df71d1bf9"
   },
   "outputs": [
    {
     "name": "stderr",
     "output_type": "stream",
     "text": [
      "[nltk_data] Downloading package wordnet to C:\\Users\\Windows\n",
      "[nltk_data]     10\\AppData\\Roaming\\nltk_data...\n",
      "[nltk_data]   Package wordnet is already up-to-date!\n",
      "[nltk_data] Downloading package punkt to C:\\Users\\Windows\n",
      "[nltk_data]     10\\AppData\\Roaming\\nltk_data...\n",
      "[nltk_data]   Package punkt is already up-to-date!\n",
      "[nltk_data] Downloading package omw-1.4 to C:\\Users\\Windows\n",
      "[nltk_data]     10\\AppData\\Roaming\\nltk_data...\n",
      "[nltk_data]   Package omw-1.4 is already up-to-date!\n"
     ]
    }
   ],
   "source": [
    "# time taking\n",
    "import nltk\n",
    "nltk.download('wordnet')\n",
    "nltk.download('punkt')\n",
    "nltk.download('omw-1.4')\n",
    "df['abstrak_cleaned_text']=df['abstrak'].apply(clean_text)"
   ]
  },
  {
   "cell_type": "code",
   "execution_count": 8,
   "metadata": {
    "_uuid": "c81efcbf76b11b4a08c18e4ce6147fa35bfd2348",
    "colab": {
     "base_uri": "https://localhost:8080/",
     "height": 424
    },
    "id": "Qw6e2o8SSzi2",
    "outputId": "64afe503-0520-4b0d-e3bb-bead1fe77b82"
   },
   "outputs": [
    {
     "data": {
      "text/html": [
       "<div>\n",
       "<style scoped>\n",
       "    .dataframe tbody tr th:only-of-type {\n",
       "        vertical-align: middle;\n",
       "    }\n",
       "\n",
       "    .dataframe tbody tr th {\n",
       "        vertical-align: top;\n",
       "    }\n",
       "\n",
       "    .dataframe thead th {\n",
       "        text-align: right;\n",
       "    }\n",
       "</style>\n",
       "<table border=\"1\" class=\"dataframe\">\n",
       "  <thead>\n",
       "    <tr style=\"text-align: right;\">\n",
       "      <th></th>\n",
       "      <th>abstrak</th>\n",
       "      <th>abstrak_cleaned_text</th>\n",
       "    </tr>\n",
       "  </thead>\n",
       "  <tbody>\n",
       "    <tr>\n",
       "      <th>0</th>\n",
       "      <td>Tujuan penelitian ini adalah untuk mengidentif...</td>\n",
       "      <td>Tujuan penelitian mengidentifikasi variabel-va...</td>\n",
       "    </tr>\n",
       "    <tr>\n",
       "      <th>1</th>\n",
       "      <td>Tujuan penelitian ini adalah untuk mengetahui ...</td>\n",
       "      <td>Tujuan penelitian pengaruh variabel Retailing ...</td>\n",
       "    </tr>\n",
       "    <tr>\n",
       "      <th>2</th>\n",
       "      <td>Tujuan penelitian ini adalah mendeskripsikan i...</td>\n",
       "      <td>Tujuan penelitian mendeskripsikan inovasi keun...</td>\n",
       "    </tr>\n",
       "    <tr>\n",
       "      <th>3</th>\n",
       "      <td>PLN merupakan Badan Usaha Milik Negara yang be...</td>\n",
       "      <td>Badan Usaha Milik Negara bergerak bidang penye...</td>\n",
       "    </tr>\n",
       "    <tr>\n",
       "      <th>4</th>\n",
       "      <td>Penelitian ini mengungkapkan beberapa rumusan ...</td>\n",
       "      <td>Penelitian rumusan pelaporan biaya kualitas me...</td>\n",
       "    </tr>\n",
       "    <tr>\n",
       "      <th>5</th>\n",
       "      <td>Haryono Arifin, Pengaruh Perilaku Konsumen Ter...</td>\n",
       "      <td>Haryono Arifin Pengaruh Perilaku Konsumen Terh...</td>\n",
       "    </tr>\n",
       "    <tr>\n",
       "      <th>6</th>\n",
       "      <td>Hasil dari penelitian ini dari perhitungan Cre...</td>\n",
       "      <td>Hasil penelitian perhitungan Credit Risk Ratio...</td>\n",
       "    </tr>\n",
       "    <tr>\n",
       "      <th>7</th>\n",
       "      <td>Dharma Abidin Syah,Kesimpulan: (1) Terdapat pe...</td>\n",
       "      <td>Dharma Abidin Syah Kesimpulan Terdapat pengaru...</td>\n",
       "    </tr>\n",
       "    <tr>\n",
       "      <th>8</th>\n",
       "      <td>Tujuan penelitian ini adalah untuk mengidentif...</td>\n",
       "      <td>Tujuan penelitian mengidentifikasi variabel-va...</td>\n",
       "    </tr>\n",
       "    <tr>\n",
       "      <th>9</th>\n",
       "      <td>Penelitian ini menggunakan metode kuantitatif,...</td>\n",
       "      <td>Penelitian metode kuantitatif menekankan pengu...</td>\n",
       "    </tr>\n",
       "    <tr>\n",
       "      <th>10</th>\n",
       "      <td>Tujuan penelitian ini adalah untuk mengetahui ...</td>\n",
       "      <td>Tujuan penelitian persepsi brand association p...</td>\n",
       "    </tr>\n",
       "    <tr>\n",
       "      <th>11</th>\n",
       "      <td>Aplikasi nyata pemanfaatan teknologi informasi...</td>\n",
       "      <td>Aplikasi nyata pemanfaatan teknologi informasi...</td>\n",
       "    </tr>\n",
       "    <tr>\n",
       "      <th>12</th>\n",
       "      <td>Penelitian ini bertujuan untuk mengukur efekti...</td>\n",
       "      <td>Penelitian bertujuan mengukur efektivitas ikla...</td>\n",
       "    </tr>\n",
       "    <tr>\n",
       "      <th>13</th>\n",
       "      <td>Ali Rahbini, Pengaruh Harga dan Kualitas Pelay...</td>\n",
       "      <td>Rahbini Pengaruh Harga Kualitas Pelayanan Terh...</td>\n",
       "    </tr>\n",
       "    <tr>\n",
       "      <th>14</th>\n",
       "      <td>Bauran eceran merupakan salah satu langkah pem...</td>\n",
       "      <td>Bauran eceran salah langkah pemasaran keberhas...</td>\n",
       "    </tr>\n",
       "    <tr>\n",
       "      <th>15</th>\n",
       "      <td>Tujuan penelitian ini adalah mengetahui pengar...</td>\n",
       "      <td>Tujuan penelitian pengaruh celebrity endorser ...</td>\n",
       "    </tr>\n",
       "    <tr>\n",
       "      <th>16</th>\n",
       "      <td>Ulfiyatun Mutohharoh, “Analisis Faktor-faktor ...</td>\n",
       "      <td>Ulfiyatun Mutohharoh Analisis Faktor-faktor Me...</td>\n",
       "    </tr>\n",
       "    <tr>\n",
       "      <th>17</th>\n",
       "      <td>Tujuan penelitian ini adalah untuk menganalisi...</td>\n",
       "      <td>Tujuan penelitian menganalisis atribut kualita...</td>\n",
       "    </tr>\n",
       "    <tr>\n",
       "      <th>18</th>\n",
       "      <td>Tujuan penlitian ini adalah (1) untuk mengetah...</td>\n",
       "      <td>Tujuan penlitian variabel iklan berdasarkan ko...</td>\n",
       "    </tr>\n",
       "    <tr>\n",
       "      <th>19</th>\n",
       "      <td>Tujuan penelitian ini adalah (1) untuk mengeta...</td>\n",
       "      <td>Tujuan penelitian harga kualitas produk berpen...</td>\n",
       "    </tr>\n",
       "    <tr>\n",
       "      <th>20</th>\n",
       "      <td>Tujuan penelitian ini adalah untuk mengetahui ...</td>\n",
       "      <td>Tujuan penelitian pengaruh variabel kualitas p...</td>\n",
       "    </tr>\n",
       "    <tr>\n",
       "      <th>21</th>\n",
       "      <td>Tujuan penelitian ini adalah untuk mengetahui ...</td>\n",
       "      <td>Tujuan penelitian pengaruh Bauran Pemasaran Pr...</td>\n",
       "    </tr>\n",
       "    <tr>\n",
       "      <th>22</th>\n",
       "      <td>Tujuan penelitian ini adalah (1) untuk mengeta...</td>\n",
       "      <td>Tujuan penelitian pengaruh pesan iklan televis...</td>\n",
       "    </tr>\n",
       "    <tr>\n",
       "      <th>23</th>\n",
       "      <td>Penelitian ini bertujuan untuk mengetahui peng...</td>\n",
       "      <td>Penelitian bertujuan pengaruh unsur unsur komu...</td>\n",
       "    </tr>\n",
       "    <tr>\n",
       "      <th>24</th>\n",
       "      <td>Tujuan penelitian ini adalah untuk mengidentif...</td>\n",
       "      <td>Tujuan penelitian mengidentifikasi variabel-va...</td>\n",
       "    </tr>\n",
       "    <tr>\n",
       "      <th>25</th>\n",
       "      <td>Anissa Novianti. 090211100010. Pengaruh Atribu...</td>\n",
       "      <td>Anissa Novianti 090211100010 Pengaruh Atribut ...</td>\n",
       "    </tr>\n",
       "    <tr>\n",
       "      <th>26</th>\n",
       "      <td>Tujuan penelitian ini adalah untuk : (1) menge...</td>\n",
       "      <td>Tujuan penelitian pengaruh perilaku konsumen k...</td>\n",
       "    </tr>\n",
       "    <tr>\n",
       "      <th>27</th>\n",
       "      <td>Tujuan penelitian ini adalah untuk mengetahui ...</td>\n",
       "      <td>Tujuan penelitian pengaruh strategi promosi pe...</td>\n",
       "    </tr>\n",
       "    <tr>\n",
       "      <th>28</th>\n",
       "      <td>Muzanni, Peranan Manajemen Piutang tertahadap ...</td>\n",
       "      <td>Muzanni Peranan Manajemen Piutang tertahadap R...</td>\n",
       "    </tr>\n",
       "    <tr>\n",
       "      <th>29</th>\n",
       "      <td>KUSNIYAH, Analisis Volume Perdagangan Saham da...</td>\n",
       "      <td>KUSNIYAH Analisis Volume Perdagangan Saham Ret...</td>\n",
       "    </tr>\n",
       "    <tr>\n",
       "      <th>30</th>\n",
       "      <td>Tujuan penelitian ini adalah untuk mengetahui ...</td>\n",
       "      <td>Tujuan penelitian pengaruh variabel current ra...</td>\n",
       "    </tr>\n",
       "    <tr>\n",
       "      <th>31</th>\n",
       "      <td>Muhammad Sholeh, Pengaruh Iklan Di Televisi Te...</td>\n",
       "      <td>Muhammad Sholeh Pengaruh Iklan Televisi Terhad...</td>\n",
       "    </tr>\n",
       "    <tr>\n",
       "      <th>32</th>\n",
       "      <td>Tujuan dari penelitian ini adalah untuk menget...</td>\n",
       "      <td>Tujuan penelitian pengaruh variabel self effic...</td>\n",
       "    </tr>\n",
       "    <tr>\n",
       "      <th>33</th>\n",
       "      <td>Tujuan penelitian ini adalah untuk mengetahui ...</td>\n",
       "      <td>Tujuan penelitian pengaruh variabel persepsi n...</td>\n",
       "    </tr>\n",
       "    <tr>\n",
       "      <th>34</th>\n",
       "      <td>Tujuan penelitian ini adalah untuk mengetahui ...</td>\n",
       "      <td>Tujuan penelitian pengaruh variabel Relationsh...</td>\n",
       "    </tr>\n",
       "    <tr>\n",
       "      <th>35</th>\n",
       "      <td>Diana Agustini Dewi, 2013. “Analisis Kinerja K...</td>\n",
       "      <td>Diana Agustini Dewi 2013 Analisis Kinerja Keua...</td>\n",
       "    </tr>\n",
       "    <tr>\n",
       "      <th>36</th>\n",
       "      <td>Pengaruh Bundling Strategy Terhadap Keputusan ...</td>\n",
       "      <td>Pengaruh Bundling Strategy Terhadap Keputusan ...</td>\n",
       "    </tr>\n",
       "    <tr>\n",
       "      <th>37</th>\n",
       "      <td>Pendekatan penelitian yang digunakan dalam pen...</td>\n",
       "      <td>Pendekatan penelitian penelitian pendekatan ku...</td>\n",
       "    </tr>\n",
       "    <tr>\n",
       "      <th>38</th>\n",
       "      <td>Kenaikan harga yang terlalu tinggi, akan menye...</td>\n",
       "      <td>Kenaikan harga menyebabkan permintaan pembelia...</td>\n",
       "    </tr>\n",
       "    <tr>\n",
       "      <th>39</th>\n",
       "      <td>Tujuan penelitian ini adalah untuk mengetahui ...</td>\n",
       "      <td>Tujuan penelitian tingkat kebangkrutan perusah...</td>\n",
       "    </tr>\n",
       "    <tr>\n",
       "      <th>40</th>\n",
       "      <td>Intention of this research is to know influenc...</td>\n",
       "      <td>Intention this research know influence locatio...</td>\n",
       "    </tr>\n",
       "    <tr>\n",
       "      <th>41</th>\n",
       "      <td>Objek penelitian ini adalah pembelian produk X...</td>\n",
       "      <td>Objek penelitian pembelian produk Kecamatan Ba...</td>\n",
       "    </tr>\n",
       "    <tr>\n",
       "      <th>42</th>\n",
       "      <td>Penelitian ini bertujuan untuk mengetahui peng...</td>\n",
       "      <td>Penelitian bertujuan pengaruh faktor-faktor st...</td>\n",
       "    </tr>\n",
       "    <tr>\n",
       "      <th>43</th>\n",
       "      <td>Munculnya asumsi bahwa lahirnya budaya mengemi...</td>\n",
       "      <td>Munculnya asumsi lahirnya budaya mengemis dise...</td>\n",
       "    </tr>\n",
       "    <tr>\n",
       "      <th>44</th>\n",
       "      <td>USWATUN KHASANAH, “Pengaruh Etos Kerja Terhada...</td>\n",
       "      <td>USWATUN KHASANAH Pengaruh Etos Kerja Terhadap ...</td>\n",
       "    </tr>\n",
       "    <tr>\n",
       "      <th>45</th>\n",
       "      <td>Penelitian ini bertujuan untuk meneliti apakah...</td>\n",
       "      <td>Penelitian bertujuan meneliti pendidikan pelat...</td>\n",
       "    </tr>\n",
       "    <tr>\n",
       "      <th>46</th>\n",
       "      <td>Tujuan penelitian ini adalah untuk mengetahui ...</td>\n",
       "      <td>Tujuan penelitian variabel kompensasi finansia...</td>\n",
       "    </tr>\n",
       "    <tr>\n",
       "      <th>47</th>\n",
       "      <td>Atribut produk memberikan pandangan atau gamba...</td>\n",
       "      <td>Atribut produk pandangan gambaran produk Deale...</td>\n",
       "    </tr>\n",
       "    <tr>\n",
       "      <th>48</th>\n",
       "      <td>Habibah, “Pengaruh Ekuitas Merek Terhadap Kepu...</td>\n",
       "      <td>Habibah Pengaruh Ekuitas Merek Terhadap Keputu...</td>\n",
       "    </tr>\n",
       "    <tr>\n",
       "      <th>49</th>\n",
       "      <td>Hening Ary Putra, Pengaruh Iklan Online Melalu...</td>\n",
       "      <td>Hening Putra Pengaruh Iklan Online Melalui Med...</td>\n",
       "    </tr>\n",
       "    <tr>\n",
       "      <th>50</th>\n",
       "      <td>Penelitian ini bertujuan untuk mengetahui peng...</td>\n",
       "      <td>Penelitian bertujuan pengaruh rekrutmen pengem...</td>\n",
       "    </tr>\n",
       "    <tr>\n",
       "      <th>51</th>\n",
       "      <td>Satiyah, Pengaruh Faktor-faktor Pelatihan dan ...</td>\n",
       "      <td>Satiyah Pengaruh Faktor-faktor Pelatihan Penge...</td>\n",
       "    </tr>\n",
       "    <tr>\n",
       "      <th>52</th>\n",
       "      <td>Aththaariq, Pengaruh Kompetensi Dosen Terhadap...</td>\n",
       "      <td>Aththaariq Pengaruh Kompetensi Dosen Terhadap ...</td>\n",
       "    </tr>\n",
       "    <tr>\n",
       "      <th>53</th>\n",
       "      <td>Suatu keputusan investasi selalu berhubungan d...</td>\n",
       "      <td>Suatu keputusan investasi berhubungan keuntung...</td>\n",
       "    </tr>\n",
       "  </tbody>\n",
       "</table>\n",
       "</div>"
      ],
      "text/plain": [
       "                                              abstrak  \\\n",
       "0   Tujuan penelitian ini adalah untuk mengidentif...   \n",
       "1   Tujuan penelitian ini adalah untuk mengetahui ...   \n",
       "2   Tujuan penelitian ini adalah mendeskripsikan i...   \n",
       "3   PLN merupakan Badan Usaha Milik Negara yang be...   \n",
       "4   Penelitian ini mengungkapkan beberapa rumusan ...   \n",
       "5   Haryono Arifin, Pengaruh Perilaku Konsumen Ter...   \n",
       "6   Hasil dari penelitian ini dari perhitungan Cre...   \n",
       "7   Dharma Abidin Syah,Kesimpulan: (1) Terdapat pe...   \n",
       "8   Tujuan penelitian ini adalah untuk mengidentif...   \n",
       "9   Penelitian ini menggunakan metode kuantitatif,...   \n",
       "10  Tujuan penelitian ini adalah untuk mengetahui ...   \n",
       "11  Aplikasi nyata pemanfaatan teknologi informasi...   \n",
       "12  Penelitian ini bertujuan untuk mengukur efekti...   \n",
       "13  Ali Rahbini, Pengaruh Harga dan Kualitas Pelay...   \n",
       "14  Bauran eceran merupakan salah satu langkah pem...   \n",
       "15  Tujuan penelitian ini adalah mengetahui pengar...   \n",
       "16  Ulfiyatun Mutohharoh, “Analisis Faktor-faktor ...   \n",
       "17  Tujuan penelitian ini adalah untuk menganalisi...   \n",
       "18  Tujuan penlitian ini adalah (1) untuk mengetah...   \n",
       "19  Tujuan penelitian ini adalah (1) untuk mengeta...   \n",
       "20  Tujuan penelitian ini adalah untuk mengetahui ...   \n",
       "21  Tujuan penelitian ini adalah untuk mengetahui ...   \n",
       "22  Tujuan penelitian ini adalah (1) untuk mengeta...   \n",
       "23  Penelitian ini bertujuan untuk mengetahui peng...   \n",
       "24  Tujuan penelitian ini adalah untuk mengidentif...   \n",
       "25  Anissa Novianti. 090211100010. Pengaruh Atribu...   \n",
       "26  Tujuan penelitian ini adalah untuk : (1) menge...   \n",
       "27  Tujuan penelitian ini adalah untuk mengetahui ...   \n",
       "28  Muzanni, Peranan Manajemen Piutang tertahadap ...   \n",
       "29  KUSNIYAH, Analisis Volume Perdagangan Saham da...   \n",
       "30  Tujuan penelitian ini adalah untuk mengetahui ...   \n",
       "31  Muhammad Sholeh, Pengaruh Iklan Di Televisi Te...   \n",
       "32  Tujuan dari penelitian ini adalah untuk menget...   \n",
       "33  Tujuan penelitian ini adalah untuk mengetahui ...   \n",
       "34  Tujuan penelitian ini adalah untuk mengetahui ...   \n",
       "35  Diana Agustini Dewi, 2013. “Analisis Kinerja K...   \n",
       "36  Pengaruh Bundling Strategy Terhadap Keputusan ...   \n",
       "37  Pendekatan penelitian yang digunakan dalam pen...   \n",
       "38  Kenaikan harga yang terlalu tinggi, akan menye...   \n",
       "39  Tujuan penelitian ini adalah untuk mengetahui ...   \n",
       "40  Intention of this research is to know influenc...   \n",
       "41  Objek penelitian ini adalah pembelian produk X...   \n",
       "42  Penelitian ini bertujuan untuk mengetahui peng...   \n",
       "43  Munculnya asumsi bahwa lahirnya budaya mengemi...   \n",
       "44  USWATUN KHASANAH, “Pengaruh Etos Kerja Terhada...   \n",
       "45  Penelitian ini bertujuan untuk meneliti apakah...   \n",
       "46  Tujuan penelitian ini adalah untuk mengetahui ...   \n",
       "47  Atribut produk memberikan pandangan atau gamba...   \n",
       "48  Habibah, “Pengaruh Ekuitas Merek Terhadap Kepu...   \n",
       "49  Hening Ary Putra, Pengaruh Iklan Online Melalu...   \n",
       "50  Penelitian ini bertujuan untuk mengetahui peng...   \n",
       "51  Satiyah, Pengaruh Faktor-faktor Pelatihan dan ...   \n",
       "52  Aththaariq, Pengaruh Kompetensi Dosen Terhadap...   \n",
       "53  Suatu keputusan investasi selalu berhubungan d...   \n",
       "\n",
       "                                 abstrak_cleaned_text  \n",
       "0   Tujuan penelitian mengidentifikasi variabel-va...  \n",
       "1   Tujuan penelitian pengaruh variabel Retailing ...  \n",
       "2   Tujuan penelitian mendeskripsikan inovasi keun...  \n",
       "3   Badan Usaha Milik Negara bergerak bidang penye...  \n",
       "4   Penelitian rumusan pelaporan biaya kualitas me...  \n",
       "5   Haryono Arifin Pengaruh Perilaku Konsumen Terh...  \n",
       "6   Hasil penelitian perhitungan Credit Risk Ratio...  \n",
       "7   Dharma Abidin Syah Kesimpulan Terdapat pengaru...  \n",
       "8   Tujuan penelitian mengidentifikasi variabel-va...  \n",
       "9   Penelitian metode kuantitatif menekankan pengu...  \n",
       "10  Tujuan penelitian persepsi brand association p...  \n",
       "11  Aplikasi nyata pemanfaatan teknologi informasi...  \n",
       "12  Penelitian bertujuan mengukur efektivitas ikla...  \n",
       "13  Rahbini Pengaruh Harga Kualitas Pelayanan Terh...  \n",
       "14  Bauran eceran salah langkah pemasaran keberhas...  \n",
       "15  Tujuan penelitian pengaruh celebrity endorser ...  \n",
       "16  Ulfiyatun Mutohharoh Analisis Faktor-faktor Me...  \n",
       "17  Tujuan penelitian menganalisis atribut kualita...  \n",
       "18  Tujuan penlitian variabel iklan berdasarkan ko...  \n",
       "19  Tujuan penelitian harga kualitas produk berpen...  \n",
       "20  Tujuan penelitian pengaruh variabel kualitas p...  \n",
       "21  Tujuan penelitian pengaruh Bauran Pemasaran Pr...  \n",
       "22  Tujuan penelitian pengaruh pesan iklan televis...  \n",
       "23  Penelitian bertujuan pengaruh unsur unsur komu...  \n",
       "24  Tujuan penelitian mengidentifikasi variabel-va...  \n",
       "25  Anissa Novianti 090211100010 Pengaruh Atribut ...  \n",
       "26  Tujuan penelitian pengaruh perilaku konsumen k...  \n",
       "27  Tujuan penelitian pengaruh strategi promosi pe...  \n",
       "28  Muzanni Peranan Manajemen Piutang tertahadap R...  \n",
       "29  KUSNIYAH Analisis Volume Perdagangan Saham Ret...  \n",
       "30  Tujuan penelitian pengaruh variabel current ra...  \n",
       "31  Muhammad Sholeh Pengaruh Iklan Televisi Terhad...  \n",
       "32  Tujuan penelitian pengaruh variabel self effic...  \n",
       "33  Tujuan penelitian pengaruh variabel persepsi n...  \n",
       "34  Tujuan penelitian pengaruh variabel Relationsh...  \n",
       "35  Diana Agustini Dewi 2013 Analisis Kinerja Keua...  \n",
       "36  Pengaruh Bundling Strategy Terhadap Keputusan ...  \n",
       "37  Pendekatan penelitian penelitian pendekatan ku...  \n",
       "38  Kenaikan harga menyebabkan permintaan pembelia...  \n",
       "39  Tujuan penelitian tingkat kebangkrutan perusah...  \n",
       "40  Intention this research know influence locatio...  \n",
       "41  Objek penelitian pembelian produk Kecamatan Ba...  \n",
       "42  Penelitian bertujuan pengaruh faktor-faktor st...  \n",
       "43  Munculnya asumsi lahirnya budaya mengemis dise...  \n",
       "44  USWATUN KHASANAH Pengaruh Etos Kerja Terhadap ...  \n",
       "45  Penelitian bertujuan meneliti pendidikan pelat...  \n",
       "46  Tujuan penelitian variabel kompensasi finansia...  \n",
       "47  Atribut produk pandangan gambaran produk Deale...  \n",
       "48  Habibah Pengaruh Ekuitas Merek Terhadap Keputu...  \n",
       "49  Hening Putra Pengaruh Iklan Online Melalui Med...  \n",
       "50  Penelitian bertujuan pengaruh rekrutmen pengem...  \n",
       "51  Satiyah Pengaruh Faktor-faktor Pelatihan Penge...  \n",
       "52  Aththaariq Pengaruh Kompetensi Dosen Terhadap ...  \n",
       "53  Suatu keputusan investasi berhubungan keuntung...  "
      ]
     },
     "execution_count": 8,
     "metadata": {},
     "output_type": "execute_result"
    }
   ],
   "source": [
    "df.head(54)"
   ]
  },
  {
   "cell_type": "markdown",
   "metadata": {
    "_uuid": "79d7fa2c195ec7a4b5410885cea4dbc7e58db316",
    "id": "Wuos0NVsVJFg"
   },
   "source": [
    "Dapat melihat perbedaan setelah penghapusan stopwords dan beberapa kata yang lebih pendek. Juga kata-kata telah dilemmatisasi seperti dalam 'yang', 'dengan', 'adalah', dll."
   ]
  },
  {
   "cell_type": "markdown",
   "metadata": {
    "_uuid": "c46d3085571e5bd3224bfb6a51164816a5e2a613",
    "id": "RDqxfd7VVhJx"
   },
   "source": [
    "Kemudian gunakan kolom yang belum diproses."
   ]
  },
  {
   "cell_type": "code",
   "execution_count": 9,
   "metadata": {
    "_uuid": "64cc5de96668ec6e6f37cefb31c349f35ff81771",
    "id": "PTkgClkxV7MP"
   },
   "outputs": [],
   "source": [
    "df.drop(['abstrak'],axis=1,inplace=True)"
   ]
  },
  {
   "cell_type": "code",
   "execution_count": 10,
   "metadata": {
    "_uuid": "dc01093ea4f6bd35e492e5136bec2ef90f8a1bf5",
    "colab": {
     "base_uri": "https://localhost:8080/",
     "height": 424
    },
    "id": "PHPX62iRV_ux",
    "outputId": "a50206bc-882b-434c-ff91-0bfe259cc6a1"
   },
   "outputs": [
    {
     "data": {
      "text/html": [
       "<div>\n",
       "<style scoped>\n",
       "    .dataframe tbody tr th:only-of-type {\n",
       "        vertical-align: middle;\n",
       "    }\n",
       "\n",
       "    .dataframe tbody tr th {\n",
       "        vertical-align: top;\n",
       "    }\n",
       "\n",
       "    .dataframe thead th {\n",
       "        text-align: right;\n",
       "    }\n",
       "</style>\n",
       "<table border=\"1\" class=\"dataframe\">\n",
       "  <thead>\n",
       "    <tr style=\"text-align: right;\">\n",
       "      <th></th>\n",
       "      <th>abstrak_cleaned_text</th>\n",
       "    </tr>\n",
       "  </thead>\n",
       "  <tbody>\n",
       "    <tr>\n",
       "      <th>0</th>\n",
       "      <td>Tujuan penelitian mengidentifikasi variabel-va...</td>\n",
       "    </tr>\n",
       "    <tr>\n",
       "      <th>1</th>\n",
       "      <td>Tujuan penelitian pengaruh variabel Retailing ...</td>\n",
       "    </tr>\n",
       "    <tr>\n",
       "      <th>2</th>\n",
       "      <td>Tujuan penelitian mendeskripsikan inovasi keun...</td>\n",
       "    </tr>\n",
       "    <tr>\n",
       "      <th>3</th>\n",
       "      <td>Badan Usaha Milik Negara bergerak bidang penye...</td>\n",
       "    </tr>\n",
       "    <tr>\n",
       "      <th>4</th>\n",
       "      <td>Penelitian rumusan pelaporan biaya kualitas me...</td>\n",
       "    </tr>\n",
       "    <tr>\n",
       "      <th>5</th>\n",
       "      <td>Haryono Arifin Pengaruh Perilaku Konsumen Terh...</td>\n",
       "    </tr>\n",
       "    <tr>\n",
       "      <th>6</th>\n",
       "      <td>Hasil penelitian perhitungan Credit Risk Ratio...</td>\n",
       "    </tr>\n",
       "    <tr>\n",
       "      <th>7</th>\n",
       "      <td>Dharma Abidin Syah Kesimpulan Terdapat pengaru...</td>\n",
       "    </tr>\n",
       "    <tr>\n",
       "      <th>8</th>\n",
       "      <td>Tujuan penelitian mengidentifikasi variabel-va...</td>\n",
       "    </tr>\n",
       "    <tr>\n",
       "      <th>9</th>\n",
       "      <td>Penelitian metode kuantitatif menekankan pengu...</td>\n",
       "    </tr>\n",
       "    <tr>\n",
       "      <th>10</th>\n",
       "      <td>Tujuan penelitian persepsi brand association p...</td>\n",
       "    </tr>\n",
       "    <tr>\n",
       "      <th>11</th>\n",
       "      <td>Aplikasi nyata pemanfaatan teknologi informasi...</td>\n",
       "    </tr>\n",
       "    <tr>\n",
       "      <th>12</th>\n",
       "      <td>Penelitian bertujuan mengukur efektivitas ikla...</td>\n",
       "    </tr>\n",
       "    <tr>\n",
       "      <th>13</th>\n",
       "      <td>Rahbini Pengaruh Harga Kualitas Pelayanan Terh...</td>\n",
       "    </tr>\n",
       "    <tr>\n",
       "      <th>14</th>\n",
       "      <td>Bauran eceran salah langkah pemasaran keberhas...</td>\n",
       "    </tr>\n",
       "    <tr>\n",
       "      <th>15</th>\n",
       "      <td>Tujuan penelitian pengaruh celebrity endorser ...</td>\n",
       "    </tr>\n",
       "    <tr>\n",
       "      <th>16</th>\n",
       "      <td>Ulfiyatun Mutohharoh Analisis Faktor-faktor Me...</td>\n",
       "    </tr>\n",
       "    <tr>\n",
       "      <th>17</th>\n",
       "      <td>Tujuan penelitian menganalisis atribut kualita...</td>\n",
       "    </tr>\n",
       "    <tr>\n",
       "      <th>18</th>\n",
       "      <td>Tujuan penlitian variabel iklan berdasarkan ko...</td>\n",
       "    </tr>\n",
       "    <tr>\n",
       "      <th>19</th>\n",
       "      <td>Tujuan penelitian harga kualitas produk berpen...</td>\n",
       "    </tr>\n",
       "    <tr>\n",
       "      <th>20</th>\n",
       "      <td>Tujuan penelitian pengaruh variabel kualitas p...</td>\n",
       "    </tr>\n",
       "    <tr>\n",
       "      <th>21</th>\n",
       "      <td>Tujuan penelitian pengaruh Bauran Pemasaran Pr...</td>\n",
       "    </tr>\n",
       "    <tr>\n",
       "      <th>22</th>\n",
       "      <td>Tujuan penelitian pengaruh pesan iklan televis...</td>\n",
       "    </tr>\n",
       "    <tr>\n",
       "      <th>23</th>\n",
       "      <td>Penelitian bertujuan pengaruh unsur unsur komu...</td>\n",
       "    </tr>\n",
       "    <tr>\n",
       "      <th>24</th>\n",
       "      <td>Tujuan penelitian mengidentifikasi variabel-va...</td>\n",
       "    </tr>\n",
       "    <tr>\n",
       "      <th>25</th>\n",
       "      <td>Anissa Novianti 090211100010 Pengaruh Atribut ...</td>\n",
       "    </tr>\n",
       "    <tr>\n",
       "      <th>26</th>\n",
       "      <td>Tujuan penelitian pengaruh perilaku konsumen k...</td>\n",
       "    </tr>\n",
       "    <tr>\n",
       "      <th>27</th>\n",
       "      <td>Tujuan penelitian pengaruh strategi promosi pe...</td>\n",
       "    </tr>\n",
       "    <tr>\n",
       "      <th>28</th>\n",
       "      <td>Muzanni Peranan Manajemen Piutang tertahadap R...</td>\n",
       "    </tr>\n",
       "    <tr>\n",
       "      <th>29</th>\n",
       "      <td>KUSNIYAH Analisis Volume Perdagangan Saham Ret...</td>\n",
       "    </tr>\n",
       "    <tr>\n",
       "      <th>30</th>\n",
       "      <td>Tujuan penelitian pengaruh variabel current ra...</td>\n",
       "    </tr>\n",
       "    <tr>\n",
       "      <th>31</th>\n",
       "      <td>Muhammad Sholeh Pengaruh Iklan Televisi Terhad...</td>\n",
       "    </tr>\n",
       "    <tr>\n",
       "      <th>32</th>\n",
       "      <td>Tujuan penelitian pengaruh variabel self effic...</td>\n",
       "    </tr>\n",
       "    <tr>\n",
       "      <th>33</th>\n",
       "      <td>Tujuan penelitian pengaruh variabel persepsi n...</td>\n",
       "    </tr>\n",
       "    <tr>\n",
       "      <th>34</th>\n",
       "      <td>Tujuan penelitian pengaruh variabel Relationsh...</td>\n",
       "    </tr>\n",
       "    <tr>\n",
       "      <th>35</th>\n",
       "      <td>Diana Agustini Dewi 2013 Analisis Kinerja Keua...</td>\n",
       "    </tr>\n",
       "    <tr>\n",
       "      <th>36</th>\n",
       "      <td>Pengaruh Bundling Strategy Terhadap Keputusan ...</td>\n",
       "    </tr>\n",
       "    <tr>\n",
       "      <th>37</th>\n",
       "      <td>Pendekatan penelitian penelitian pendekatan ku...</td>\n",
       "    </tr>\n",
       "    <tr>\n",
       "      <th>38</th>\n",
       "      <td>Kenaikan harga menyebabkan permintaan pembelia...</td>\n",
       "    </tr>\n",
       "    <tr>\n",
       "      <th>39</th>\n",
       "      <td>Tujuan penelitian tingkat kebangkrutan perusah...</td>\n",
       "    </tr>\n",
       "    <tr>\n",
       "      <th>40</th>\n",
       "      <td>Intention this research know influence locatio...</td>\n",
       "    </tr>\n",
       "    <tr>\n",
       "      <th>41</th>\n",
       "      <td>Objek penelitian pembelian produk Kecamatan Ba...</td>\n",
       "    </tr>\n",
       "    <tr>\n",
       "      <th>42</th>\n",
       "      <td>Penelitian bertujuan pengaruh faktor-faktor st...</td>\n",
       "    </tr>\n",
       "    <tr>\n",
       "      <th>43</th>\n",
       "      <td>Munculnya asumsi lahirnya budaya mengemis dise...</td>\n",
       "    </tr>\n",
       "    <tr>\n",
       "      <th>44</th>\n",
       "      <td>USWATUN KHASANAH Pengaruh Etos Kerja Terhadap ...</td>\n",
       "    </tr>\n",
       "    <tr>\n",
       "      <th>45</th>\n",
       "      <td>Penelitian bertujuan meneliti pendidikan pelat...</td>\n",
       "    </tr>\n",
       "    <tr>\n",
       "      <th>46</th>\n",
       "      <td>Tujuan penelitian variabel kompensasi finansia...</td>\n",
       "    </tr>\n",
       "    <tr>\n",
       "      <th>47</th>\n",
       "      <td>Atribut produk pandangan gambaran produk Deale...</td>\n",
       "    </tr>\n",
       "    <tr>\n",
       "      <th>48</th>\n",
       "      <td>Habibah Pengaruh Ekuitas Merek Terhadap Keputu...</td>\n",
       "    </tr>\n",
       "    <tr>\n",
       "      <th>49</th>\n",
       "      <td>Hening Putra Pengaruh Iklan Online Melalui Med...</td>\n",
       "    </tr>\n",
       "    <tr>\n",
       "      <th>50</th>\n",
       "      <td>Penelitian bertujuan pengaruh rekrutmen pengem...</td>\n",
       "    </tr>\n",
       "    <tr>\n",
       "      <th>51</th>\n",
       "      <td>Satiyah Pengaruh Faktor-faktor Pelatihan Penge...</td>\n",
       "    </tr>\n",
       "    <tr>\n",
       "      <th>52</th>\n",
       "      <td>Aththaariq Pengaruh Kompetensi Dosen Terhadap ...</td>\n",
       "    </tr>\n",
       "    <tr>\n",
       "      <th>53</th>\n",
       "      <td>Suatu keputusan investasi berhubungan keuntung...</td>\n",
       "    </tr>\n",
       "  </tbody>\n",
       "</table>\n",
       "</div>"
      ],
      "text/plain": [
       "                                 abstrak_cleaned_text\n",
       "0   Tujuan penelitian mengidentifikasi variabel-va...\n",
       "1   Tujuan penelitian pengaruh variabel Retailing ...\n",
       "2   Tujuan penelitian mendeskripsikan inovasi keun...\n",
       "3   Badan Usaha Milik Negara bergerak bidang penye...\n",
       "4   Penelitian rumusan pelaporan biaya kualitas me...\n",
       "5   Haryono Arifin Pengaruh Perilaku Konsumen Terh...\n",
       "6   Hasil penelitian perhitungan Credit Risk Ratio...\n",
       "7   Dharma Abidin Syah Kesimpulan Terdapat pengaru...\n",
       "8   Tujuan penelitian mengidentifikasi variabel-va...\n",
       "9   Penelitian metode kuantitatif menekankan pengu...\n",
       "10  Tujuan penelitian persepsi brand association p...\n",
       "11  Aplikasi nyata pemanfaatan teknologi informasi...\n",
       "12  Penelitian bertujuan mengukur efektivitas ikla...\n",
       "13  Rahbini Pengaruh Harga Kualitas Pelayanan Terh...\n",
       "14  Bauran eceran salah langkah pemasaran keberhas...\n",
       "15  Tujuan penelitian pengaruh celebrity endorser ...\n",
       "16  Ulfiyatun Mutohharoh Analisis Faktor-faktor Me...\n",
       "17  Tujuan penelitian menganalisis atribut kualita...\n",
       "18  Tujuan penlitian variabel iklan berdasarkan ko...\n",
       "19  Tujuan penelitian harga kualitas produk berpen...\n",
       "20  Tujuan penelitian pengaruh variabel kualitas p...\n",
       "21  Tujuan penelitian pengaruh Bauran Pemasaran Pr...\n",
       "22  Tujuan penelitian pengaruh pesan iklan televis...\n",
       "23  Penelitian bertujuan pengaruh unsur unsur komu...\n",
       "24  Tujuan penelitian mengidentifikasi variabel-va...\n",
       "25  Anissa Novianti 090211100010 Pengaruh Atribut ...\n",
       "26  Tujuan penelitian pengaruh perilaku konsumen k...\n",
       "27  Tujuan penelitian pengaruh strategi promosi pe...\n",
       "28  Muzanni Peranan Manajemen Piutang tertahadap R...\n",
       "29  KUSNIYAH Analisis Volume Perdagangan Saham Ret...\n",
       "30  Tujuan penelitian pengaruh variabel current ra...\n",
       "31  Muhammad Sholeh Pengaruh Iklan Televisi Terhad...\n",
       "32  Tujuan penelitian pengaruh variabel self effic...\n",
       "33  Tujuan penelitian pengaruh variabel persepsi n...\n",
       "34  Tujuan penelitian pengaruh variabel Relationsh...\n",
       "35  Diana Agustini Dewi 2013 Analisis Kinerja Keua...\n",
       "36  Pengaruh Bundling Strategy Terhadap Keputusan ...\n",
       "37  Pendekatan penelitian penelitian pendekatan ku...\n",
       "38  Kenaikan harga menyebabkan permintaan pembelia...\n",
       "39  Tujuan penelitian tingkat kebangkrutan perusah...\n",
       "40  Intention this research know influence locatio...\n",
       "41  Objek penelitian pembelian produk Kecamatan Ba...\n",
       "42  Penelitian bertujuan pengaruh faktor-faktor st...\n",
       "43  Munculnya asumsi lahirnya budaya mengemis dise...\n",
       "44  USWATUN KHASANAH Pengaruh Etos Kerja Terhadap ...\n",
       "45  Penelitian bertujuan meneliti pendidikan pelat...\n",
       "46  Tujuan penelitian variabel kompensasi finansia...\n",
       "47  Atribut produk pandangan gambaran produk Deale...\n",
       "48  Habibah Pengaruh Ekuitas Merek Terhadap Keputu...\n",
       "49  Hening Putra Pengaruh Iklan Online Melalui Med...\n",
       "50  Penelitian bertujuan pengaruh rekrutmen pengem...\n",
       "51  Satiyah Pengaruh Faktor-faktor Pelatihan Penge...\n",
       "52  Aththaariq Pengaruh Kompetensi Dosen Terhadap ...\n",
       "53  Suatu keputusan investasi berhubungan keuntung..."
      ]
     },
     "execution_count": 10,
     "metadata": {},
     "output_type": "execute_result"
    }
   ],
   "source": [
    "df.head(54)"
   ]
  },
  {
   "cell_type": "markdown",
   "metadata": {
    "_uuid": "ac1c4d306d9c1ea25c1b28250b386a8d8fde4134",
    "id": "SJONDOkVKHeB"
   },
   "source": [
    "Kita juga bisa melihat headline berita tertentu."
   ]
  },
  {
   "cell_type": "code",
   "execution_count": 11,
   "metadata": {
    "_uuid": "219d5fa37fbffff1c1acdeb46722a40cee1842a2",
    "colab": {
     "base_uri": "https://localhost:8080/",
     "height": 105
    },
    "id": "zlVvCr7qWkqA",
    "outputId": "71797491-dc44-4547-8d52-862f1ecbdcdc"
   },
   "outputs": [
    {
     "data": {
      "text/plain": [
       "'Tujuan penelitian mengidentifikasi variabel-variabel mempengaruhi minat ulang nasabah layanan Internet Banking parsial simultan Penelitian metode kuantitatif dimana populasi penelitian nasabah kota Bangkalan layanan Internet Banking diperoleh sampel responden diambil teknik purposive sampling Teknik analisis regresi linier berganda Hasil penelitian simultan pengaruh signifikan variabel bebas persepsi manfaat persepsi kemudahan keamanan ketersediaan fitur minat ulang internet banking parsial variabel bebas berpengaruh positif signifikan minat ulang layanan internet banking kecuali variabel persepsi kemudahan kecuali variabel persepsi kemudahan._x000D_Kata Kunci Persepsi Manfaat Persepsi Kemudahan Keamanan Ketersediaan Fitur Minat Ulang Menggunakan Internet Banking'"
      ]
     },
     "execution_count": 11,
     "metadata": {},
     "output_type": "execute_result"
    }
   ],
   "source": [
    "df['abstrak_cleaned_text'][0]"
   ]
  },
  {
   "cell_type": "markdown",
   "metadata": {
    "id": "sCIW3rb7NAZd"
   },
   "source": [
    "#### 4. Mengekstraksi Fitur dan Membuat Document Term Matrix (DTM)\n",
    "\n",
    "Dalam DTM nilainya adalah nilai TFidf. Tentukan beberapa parameter dari vectorizer Tfidf. Beberapa poin penting:\n",
    "\n",
    "1.   LSA umumnya diimplementasikan dengan nilai Tfidf di mana-mana dan bukan dengan Count Vectorizer.\n",
    "2.   Max_features bergantung pada daya komputasi Anda dan juga pada eval. metrik (skor koherensi adalah metrik untuk model topik). Coba nilai yang memberikan evaluasi terbaik. metrik dan tidak membatasi kekuatan pemrosesan.\n",
    "3.   Nilai default untuk min_df & max_df bekerja dengan baik.\n",
    "4.   Dapat mencoba nilai yang berbeda untuk ngram_range."
   ]
  },
  {
   "cell_type": "code",
   "execution_count": 12,
   "metadata": {
    "id": "lyb3wkpOOXro"
   },
   "outputs": [],
   "source": [
    "vect =TfidfVectorizer(stop_words=stop_words,max_features=1000) # to play with. min_df,max_df,max_features etc..."
   ]
  },
  {
   "cell_type": "code",
   "execution_count": 13,
   "metadata": {
    "colab": {
     "base_uri": "https://localhost:8080/"
    },
    "id": "n_3fijYoOcJq",
    "outputId": "80ecc08f-7010-49ab-a87f-326460dbf98c"
   },
   "outputs": [
    {
     "name": "stderr",
     "output_type": "stream",
     "text": [
      "c:\\users\\windows 10\\appdata\\local\\programs\\python\\python39\\lib\\site-packages\\sklearn\\feature_extraction\\text.py:396: UserWarning: Your stop_words may be inconsistent with your preprocessing. Tokenizing the stop words generated tokens ['baiknya', 'berkali', 'kali', 'kurangnya', 'mata', 'olah', 'sekurang', 'setidak', 'tama', 'tidaknya'] not in stop_words.\n",
      "  warnings.warn(\n"
     ]
    }
   ],
   "source": [
    "vect_text=vect.fit_transform(df['abstrak_cleaned_text'])"
   ]
  },
  {
   "cell_type": "markdown",
   "metadata": {
    "_uuid": "bb0975cb5ba0e82f9e14eba53bd466c26b892a7e",
    "id": "Zwsn4wTQKHeD"
   },
   "source": [
    "Sekarang kita dapat melihat kata-kata yang paling sering dan langka di headline berita berdasarkan skor idf. Semakin kecil nilainya; lebih umum adalah kata dalam berita utama."
   ]
  },
  {
   "cell_type": "code",
   "execution_count": 14,
   "metadata": {
    "_uuid": "a75bc1a06e66fa4c8615822f703487424761570b",
    "colab": {
     "base_uri": "https://localhost:8080/"
    },
    "id": "5G-Zt5lUsUjx",
    "outputId": "4e918e30-3024-4103-f269-e4fead8d525f"
   },
   "outputs": [
    {
     "name": "stdout",
     "output_type": "stream",
     "text": [
      "(54, 1000)\n",
      "  (0, 493)\t0.024788720857340563\n",
      "  (0, 99)\t0.08266066359927063\n",
      "  (0, 424)\t0.14978374265013697\n",
      "  (0, 718)\t0.05865747546684801\n",
      "  (0, 201)\t0.026755594906497916\n",
      "  (0, 321)\t0.14978374265013697\n",
      "  (0, 450)\t0.16532132719854126\n",
      "  (0, 418)\t0.16532132719854126\n",
      "  (0, 434)\t0.29956748530027394\n",
      "  (0, 528)\t0.16532132719854126\n",
      "  (0, 703)\t0.369666199272936\n",
      "  (0, 178)\t0.08331313884998408\n",
      "  (0, 840)\t0.060291245068693336\n",
      "  (0, 674)\t0.024327006966820906\n",
      "  (0, 347)\t0.02300508979993151\n",
      "  (0, 192)\t0.032095799241023036\n",
      "  (0, 512)\t0.034267199436138374\n",
      "  (0, 775)\t0.033515722756047264\n",
      "  (0, 133)\t0.026244625977839473\n",
      "  (0, 811)\t0.030773882074133636\n",
      "  (0, 755)\t0.04405472018704612\n",
      "  (0, 906)\t0.06419159848204607\n",
      "  (0, 267)\t0.05865747546684801\n",
      "  (0, 786)\t0.032792610550839256\n",
      "  (0, 807)\t0.030145622534346668\n",
      "  :\t:\n",
      "  (53, 284)\t0.03768929637237687\n",
      "  (53, 12)\t0.08915749558628762\n",
      "  (53, 611)\t0.03768929637237687\n",
      "  (53, 536)\t0.04457874779314381\n",
      "  (53, 368)\t0.09624082563347638\n",
      "  (53, 11)\t0.1443612384502146\n",
      "  (53, 376)\t0.09637467055502426\n",
      "  (53, 90)\t0.04812041281673819\n",
      "  (53, 169)\t0.04812041281673819\n",
      "  (53, 694)\t0.09624082563347638\n",
      "  (53, 796)\t0.24060206408369098\n",
      "  (53, 269)\t0.04812041281673819\n",
      "  (53, 629)\t0.04812041281673819\n",
      "  (53, 288)\t0.0345953548104942\n",
      "  (53, 631)\t0.02606199329557502\n",
      "  (53, 190)\t0.04832847673226577\n",
      "  (53, 442)\t0.02606199329557502\n",
      "  (53, 493)\t0.01592754273259609\n",
      "  (53, 178)\t0.026765672719794308\n",
      "  (53, 347)\t0.029563005930345537\n",
      "  (53, 807)\t0.019369522690572193\n",
      "  (53, 281)\t0.0566131219428335\n",
      "  (53, 599)\t0.0215349194289994\n",
      "  (53, 670)\t0.038301164566482505\n",
      "  (53, 954)\t0.01787544452705543\n"
     ]
    }
   ],
   "source": [
    "print(vect_text.shape)\n",
    "print(vect_text)"
   ]
  },
  {
   "cell_type": "code",
   "execution_count": 15,
   "metadata": {
    "_uuid": "fdf6846bf90d386f8361467a420af9b40b689521",
    "id": "zbF-rC1va7tP"
   },
   "outputs": [],
   "source": [
    "idf=vect.idf_"
   ]
  },
  {
   "cell_type": "code",
   "execution_count": 16,
   "metadata": {
    "_uuid": "b5dc9f0d99d949a36cdb00be41b5ba4a424f093c",
    "colab": {
     "base_uri": "https://localhost:8080/"
    },
    "id": "a0wQG_tZm53A",
    "outputId": "d13ccf5d-35e7-4a17-d671-c117e27a4e6b"
   },
   "outputs": [
    {
     "name": "stdout",
     "output_type": "stream",
     "text": [
      "penelitian yamaha\n",
      "1.037041271680349\n",
      "4.314186004672526\n"
     ]
    },
    {
     "name": "stderr",
     "output_type": "stream",
     "text": [
      "c:\\users\\windows 10\\appdata\\local\\programs\\python\\python39\\lib\\site-packages\\sklearn\\utils\\deprecation.py:87: FutureWarning: Function get_feature_names is deprecated; get_feature_names is deprecated in 1.0 and will be removed in 1.2. Please use get_feature_names_out instead.\n",
      "  warnings.warn(msg, category=FutureWarning)\n"
     ]
    }
   ],
   "source": [
    "dd=dict(zip(vect.get_feature_names(), idf))\n",
    "l=sorted(dd, key=(dd).get)\n",
    "# print(l)\n",
    "print(l[0],l[-1])\n",
    "print(dd['penelitian'])\n",
    "print(dd['yamaha'])  # police is most common and forecast is least common among the news headlines."
   ]
  },
  {
   "cell_type": "markdown",
   "metadata": {
    "_uuid": "868e6b05bc280289edea4e14b31c98a435d8ebbc",
    "id": "1Gc-x0EqKHeE"
   },
   "source": [
    "Oleh karena itu kita dapat melihat bahwa berdasarkan **nilai idf** , **'hasil'** adalah kata **paling sering** sedangkan **'wisata'** **paling jarang** muncul di antara abstrak."
   ]
  },
  {
   "cell_type": "markdown",
   "metadata": {
    "_uuid": "3b96bb00ba3313b3fcab6735e73c56e89fc74365",
    "id": "x6dHR9bnKHeF"
   },
   "source": [
    "### 4. Topic Modelling"
   ]
  },
  {
   "cell_type": "markdown",
   "metadata": {
    "id": "OWrrKVjbc53Q"
   },
   "source": [
    "Suatu metode pada  analisa penambangan teks untuk melakukan penemuan data-data teks yang tersembunyi dan menemukan hubungan antara teks yang satu dengan lainnya dari suatu corpus.\n",
    "* Mengelompokkan data teks yang didasarkan pada topik tertentu.\n",
    "* Ide-tema-pokok bahasan utama dalam suatu kumpulan teks.\n",
    "\n",
    "Diimplementasikan untuk :\n",
    "* Mengetahui topik bahasan di media sosial\n",
    "* Mengetahui topik penelitian\n",
    "* Mengetahui topik yang dibahas dalam review produk, dll.\n",
    "\n",
    "Tugas pokok topik modelling :\n",
    "* Menemukan topik dalam kumpulan teks (Corpus) \n",
    "* Mengetahui proporsi topik dalam suatu dokumen\n",
    "\n",
    "**Topic** mengandung  distribusi dari beberapa kosakata (term) yang bersifat tetap.\n",
    "\n",
    "**Dokumen** mengandung proporsi topik-topik tertentu sesuai kata-kata yang terkandung di dalamnya."
   ]
  },
  {
   "cell_type": "markdown",
   "metadata": {
    "_uuid": "0bad03b7f6b2b69cd4554ec9e7681b430dfe4e10",
    "id": "5t314PtpKHeF"
   },
   "source": [
    "#### 1. Latent Semantic Analysis (LSA)"
   ]
  },
  {
   "cell_type": "markdown",
   "metadata": {
    "id": "qeOlQ_msWPdR"
   },
   "source": [
    "Pendekatan pertama yang saya gunakan adalah LSA. LSA pada dasarnya adalah dekomposisi nilai tunggal. \n",
    "\n",
    "SVD menguraikan DTM asli menjadi tiga matriks S=U.(sigma).(V.T). Di sini matriks U menunjukkan matriks topik-dokumen sedangkan (V) adalah matriks istilah-topik.\n",
    "\n",
    "Setiap baris dari matriks U(matriks term dokumen) adalah representasi vektor dari dokumen yang bersangkutan. Panjang vektor ini adalah jumlah topik yang diinginkan. Representasi vektor untuk suku-suku dalam data kami dapat ditemukan dalam matriks V (matriks istilah-topik).\n",
    "\n",
    "Jadi, SVD memberi kita vektor untuk setiap dokumen dan istilah dalam data kita. Panjang setiap vektor adalah k. Kemudian kita dapat menggunakan vektor-vektor ini untuk menemukan kata dan dokumen serupa menggunakan metode kesamaan kosinus.\n",
    "\n",
    "Kita dapat menggunakan fungsi truncatedSVD untuk mengimplementasikan LSA. Parameter n_components adalah jumlah topik yang ingin kita ekstrak.\n",
    "Model tersebut kemudian di fit dan ditransformasikan pada hasil yang diberikan oleh vectorizer.\n",
    "\n",
    "Terakhir perhatikan bahwa LSA dan LSI (I untuk pengindeksan) adalah sama dan yang terakhir hanya terkadang digunakan dalam konteks pencarian informasi."
   ]
  },
  {
   "cell_type": "markdown",
   "metadata": {
    "id": "fIxwkkNYk5w7"
   },
   "source": [
    "Rumus Singular Value Decomposition (SVD) :"
   ]
  },
  {
   "cell_type": "markdown",
   "metadata": {
    "id": "npOEZF4pk845"
   },
   "source": [
    "$\\begin{equation}\n",
    "A_{m n}=U_{m m} x S_{m n} x V_{n n}^{T}\n",
    "\\end{equation}$"
   ]
  },
  {
   "cell_type": "markdown",
   "metadata": {
    "id": "1ejFMolYkOjR"
   },
   "source": [
    "Rumus Cosine Similarity :"
   ]
  },
  {
   "cell_type": "markdown",
   "metadata": {
    "id": "9oaEFnrwkR-e"
   },
   "source": [
    "$\\begin{equation}\n",
    "\\cos \\alpha=\\frac{A \\cdot B}{|A||B|}=\\frac{\\sum_{i=1}^{n} A_{i} X B_{i}}{\\sqrt{\\sum_{i=1}^{n}\\left(A_{i}\\right)^{2}} X \\sqrt{\\sum_{i=1}^{n}\\left(B_{i}\\right)^{2}}}\n",
    "\\end{equation}$"
   ]
  },
  {
   "cell_type": "code",
   "execution_count": 17,
   "metadata": {
    "_uuid": "ac483df5e69eeb2b4b71af956c6987896eda7eb6",
    "id": "9xuGfFdtqTp5"
   },
   "outputs": [],
   "source": [
    "from sklearn.decomposition import TruncatedSVD\n",
    "lsa_model = TruncatedSVD(n_components=10, algorithm='randomized', n_iter=10, random_state=42)\n",
    "\n",
    "lsa_top=lsa_model.fit_transform(vect_text)\n"
   ]
  },
  {
   "cell_type": "code",
   "execution_count": 18,
   "metadata": {
    "_uuid": "0a8f4620d3c71db1275e4b5662bf4ab32c598266",
    "colab": {
     "base_uri": "https://localhost:8080/"
    },
    "id": "KdaVWPC6xmq-",
    "outputId": "d43508f7-38c2-494a-c8e0-df4a6e693eb9"
   },
   "outputs": [
    {
     "name": "stdout",
     "output_type": "stream",
     "text": [
      "[[ 2.22205439e-01  3.31484170e-02 -6.88446178e-03 -1.91130077e-03\n",
      "   1.46697245e-01  6.07751944e-02 -4.74330930e-02  6.37953801e-02\n",
      "   1.74821215e-01  2.03419329e-01]\n",
      " [ 4.91729114e-01 -1.10650134e-01  3.81853684e-02 -4.82043916e-02\n",
      "  -4.11572307e-02 -2.17620252e-03 -2.52934662e-01  1.36197441e-02\n",
      "  -2.92389153e-01  1.55162344e-01]\n",
      " [ 1.01575336e-01  8.05718192e-02  6.56302810e-02 -2.61270190e-02\n",
      "  -2.29148074e-02 -8.86198260e-02  3.60287413e-02 -3.05559168e-02\n",
      "  -8.22681997e-03 -1.76442223e-01]\n",
      " [ 2.50638413e-01  4.63417575e-01 -2.47894313e-01 -2.12858478e-01\n",
      "  -1.73334511e-01 -1.42854667e-02  1.77690680e-01 -2.36459107e-01\n",
      "   1.23549107e-02  1.33943418e-01]\n",
      " [ 1.84864612e-01  1.24061014e-02  1.76728816e-01 -6.35861975e-02\n",
      "   1.37265052e-01 -1.13484212e-01  7.15622607e-02 -1.18547676e-01\n",
      "   6.79555520e-02 -2.95445927e-01]\n",
      " [ 4.45003452e-01 -2.41998912e-01 -1.21733715e-02  2.85661701e-02\n",
      "  -1.40187124e-02 -2.68645196e-02  1.12840716e-01 -1.04721192e-02\n",
      "   4.59413896e-01  1.80629853e-01]\n",
      " [ 5.55409444e-02  1.23399653e-01  1.86165432e-01  3.61234719e-02\n",
      "   1.22890483e-01 -2.07953338e-01  1.47744378e-02 -6.04507516e-02\n",
      "  -2.86026641e-02  1.70756430e-02]\n",
      " [ 2.37259002e-01  3.49814217e-01 -2.34263359e-01 -1.59390724e-01\n",
      "  -1.45246610e-01 -4.69821081e-02 -5.99796148e-03 -1.66178590e-02\n",
      "  -2.64178212e-02  5.50714725e-02]\n",
      " [ 3.83180576e-01  5.33712842e-04 -1.31537689e-02 -8.69038836e-02\n",
      "   3.43201550e-01  2.51853899e-01 -2.49198294e-01 -2.20975073e-01\n",
      "  -1.51722032e-01  1.34841385e-01]\n",
      " [ 3.65339627e-01  3.37941127e-01 -1.60382226e-01 -8.57861119e-02\n",
      "   3.11988315e-02 -1.15855957e-01 -4.30673906e-01  3.65101352e-01\n",
      "   1.46645278e-01 -1.70476872e-01]\n",
      " [ 1.39223492e-01  8.13750065e-03  1.54659942e-02  3.67756346e-02\n",
      "   1.52036180e-01  8.61676918e-02  9.41480406e-02  2.12261031e-02\n",
      "   1.79634494e-01  2.00677923e-01]\n",
      " [ 1.52174931e-01  6.64698690e-02  2.09737928e-02 -1.01580047e-01\n",
      "   3.89898045e-01  2.68104326e-01  1.95093100e-01  9.19472533e-02\n",
      "  -1.80425295e-01 -1.87213061e-01]\n",
      " [ 3.03730695e-01  1.50057237e-01 -8.59055572e-02  3.56683959e-01\n",
      "   1.31813192e-01  1.16626402e-01  5.09888307e-02  2.42409168e-01\n",
      "  -4.28058130e-03 -1.21079034e-01]\n",
      " [ 3.07686707e-01 -2.25314488e-02  4.05217257e-02 -1.50597840e-01\n",
      "   2.56638115e-01  3.13849975e-01 -2.01625876e-01 -3.02840452e-01\n",
      "  -2.59041514e-01  1.28686047e-02]\n",
      " [ 4.59364359e-01 -1.97030195e-01  7.25034391e-02 -8.45058582e-02\n",
      "  -1.43042637e-01 -4.01958819e-03 -8.87963710e-02 -1.91347385e-01\n",
      "  -2.95247673e-01 -2.22535479e-02]\n",
      " [ 3.32235847e-01  6.36200596e-03 -2.93116267e-02  6.33376445e-02\n",
      "  -5.27155879e-02 -5.18811687e-02 -1.50221623e-02 -7.43452098e-02\n",
      "   9.49736500e-02 -1.81965687e-01]\n",
      " [ 2.79813591e-01  3.34337094e-02 -3.45887299e-03 -1.93576455e-02\n",
      "   1.66058017e-01  1.06627827e-01  4.60656344e-01  3.46203611e-01\n",
      "  -1.88722208e-01 -1.26522372e-01]\n",
      " [ 1.30982771e-01 -5.47657105e-02  4.72272509e-02 -1.98540050e-01\n",
      "   3.23451084e-01  1.86760729e-01  4.07443208e-02 -2.16895631e-01\n",
      "   1.89913698e-01 -3.29099646e-01]\n",
      " [ 4.73147886e-01 -1.54131115e-01 -3.80455326e-02  2.29063140e-01\n",
      "  -8.97760981e-02 -7.84988452e-03  2.18948071e-02  2.94512949e-02\n",
      "  -5.56785169e-02  1.67429886e-01]\n",
      " [ 5.03165822e-01 -1.88926652e-01  5.22273239e-02 -1.45608808e-01\n",
      "  -2.11193714e-02  3.39943329e-03 -3.72770256e-02  5.33392802e-02\n",
      "  -1.57753662e-01 -9.63363336e-02]\n",
      " [ 2.59953218e-01  1.79906351e-02 -1.26880376e-02 -1.07282789e-01\n",
      "   2.79905406e-01  1.39770815e-01 -2.57166964e-01 -8.36763267e-02\n",
      "  -1.04262036e-01  1.26042151e-01]\n",
      " [ 5.04430289e-01 -2.22802437e-01  7.72672826e-03 -7.04039840e-02\n",
      "  -2.82278940e-01 -1.58984219e-01 -2.53731571e-03 -2.27899587e-02\n",
      "  -2.05641332e-01 -2.21882613e-01]\n",
      " [ 2.08954185e-01  1.04841823e-01 -1.12245627e-01  6.85717417e-01\n",
      "  -2.23170688e-03  2.06624462e-01 -6.62328855e-02 -2.35304644e-01\n",
      "   4.09882873e-02 -9.52940768e-02]\n",
      " [ 2.63285873e-01  3.58662831e-01 -2.26195897e-01  3.06813333e-01\n",
      "  -7.88582366e-02  1.18928697e-01 -8.34840550e-03 -1.95817234e-01\n",
      "   7.26670996e-02 -9.00061198e-02]\n",
      " [ 6.17104765e-01 -2.26056241e-01 -2.44064631e-02 -3.66393092e-02\n",
      "  -1.12711088e-01 -1.38284743e-01  1.52582671e-02  1.39662333e-01\n",
      "   7.88713192e-02  6.20890036e-02]\n",
      " [ 3.43121500e-01 -1.99930401e-01 -8.97510593e-03  8.10868835e-03\n",
      "  -1.38303331e-01 -1.18597553e-01  1.23636685e-01  2.26755089e-02\n",
      "   1.04638233e-01 -1.33329624e-02]\n",
      " [ 4.83418882e-01 -2.57031878e-01 -5.29837735e-03  5.34882366e-02\n",
      "  -4.69587817e-02 -2.33048681e-02  5.08620285e-02 -5.60588058e-02\n",
      "   2.14196762e-01  2.87172845e-01]\n",
      " [ 4.38670437e-01 -8.91231319e-02  7.79168312e-03  5.82304611e-03\n",
      "  -1.01043945e-01 -1.21601790e-01 -1.33805765e-01  8.00183347e-02\n",
      "  -2.00854203e-01  8.66647578e-02]\n",
      " [ 8.57859770e-02  5.54816597e-02  2.15692032e-02 -1.08405845e-02\n",
      "   6.21885153e-03 -4.36039451e-02  2.80138414e-02 -6.96382218e-02\n",
      "   6.02700150e-02 -9.16954293e-02]\n",
      " [ 1.20752260e-01  2.53618441e-01  7.08412830e-01 -2.80687710e-02\n",
      "  -3.30536632e-01  3.60596762e-01 -1.82927586e-02  6.50204802e-02\n",
      "   8.79098305e-02  2.88401255e-02]\n",
      " [ 1.96528870e-01  2.22369582e-01  3.29754494e-01  1.01660188e-01\n",
      "   2.08347062e-01 -3.92434061e-01 -4.98047634e-02 -8.54571599e-02\n",
      "  -8.21095632e-02  1.65930833e-01]\n",
      " [ 2.96345183e-01  8.46716349e-02 -1.35095953e-01  6.78480979e-01\n",
      "  -5.54410091e-02  1.70347867e-01 -2.31682628e-02 -1.97162050e-01\n",
      "   5.63729806e-03 -1.32557575e-01]\n",
      " [ 1.91023309e-01  1.59765188e-01 -6.89643900e-02 -5.59631346e-02\n",
      "   1.76752245e-01  1.14717706e-01  2.29835547e-01  2.82280033e-01\n",
      "  -2.42020171e-01 -2.54404564e-02]\n",
      " [ 4.18008038e-01 -8.21872484e-02  4.43730779e-02 -2.33844260e-01\n",
      "   3.45057758e-01  2.26388448e-01  5.11303539e-02 -1.64582691e-01\n",
      "   2.40822025e-01 -1.03964921e-01]\n",
      " [ 1.73933162e-01  5.16174878e-02 -4.02352778e-02  8.64257704e-03\n",
      "   6.54704483e-02  3.40928452e-03 -2.07601767e-01  5.46727887e-02\n",
      "  -3.04525704e-02  1.63012852e-01]\n",
      " [ 1.32887103e-01  2.79608032e-01  4.59537951e-01  1.06045609e-01\n",
      "   2.03881562e-01 -3.40405396e-01  1.44070217e-01 -3.16418050e-02\n",
      "  -2.56481455e-02 -5.68491068e-03]\n",
      " [ 2.21614252e-01 -5.48110805e-02 -5.19807975e-03  3.10617718e-02\n",
      "  -5.92940435e-02 -6.94261414e-02 -1.14067737e-03  9.05807654e-03\n",
      "   4.08247659e-02 -1.18676047e-03]\n",
      " [ 2.06722410e-01  2.67785824e-01  3.45079174e-01  1.24263862e-01\n",
      "   2.49533280e-01 -4.30497622e-01 -5.97005664e-04 -1.40857966e-01\n",
      "  -3.75319515e-02  5.18545129e-02]\n",
      " [ 1.52498279e-01  1.99233450e-01  6.50050313e-01 -6.75882263e-02\n",
      "  -3.72484896e-01  4.44335401e-01 -5.81325484e-02  8.26163902e-02\n",
      "   5.10336108e-02  6.83155836e-03]\n",
      " [ 1.00927100e-01  2.32859028e-01  4.61929861e-01  8.28712972e-02\n",
      "   1.27496614e-01 -2.86167389e-01  1.27740908e-01 -1.09206055e-01\n",
      "   7.55412445e-03 -1.65521817e-02]\n",
      " [ 2.24479003e-02  1.57582934e-02  5.44180780e-03  2.01961609e-02\n",
      "   5.30147161e-02  1.04140990e-02 -1.47881540e-02  1.79297603e-03\n",
      "  -2.14950009e-02  5.05405020e-02]\n",
      " [ 5.98084251e-01 -2.40334326e-01  3.15064404e-04 -5.55002119e-02\n",
      "  -3.15913753e-01 -1.69217181e-01  4.60300240e-02 -7.31873280e-02\n",
      "  -1.97076027e-01 -1.97926688e-01]\n",
      " [ 1.59210361e-01  2.95912760e-01 -1.64320777e-01 -9.79246774e-02\n",
      "  -7.69769741e-03  9.71730548e-02  3.37005294e-01 -3.95098111e-02\n",
      "  -1.09587363e-01  1.17089183e-01]\n",
      " [ 9.93102371e-02  1.91961152e-02  1.04069471e-03 -2.00573313e-02\n",
      "   3.23631905e-02  2.74017451e-02  6.35299124e-02  3.22630311e-02\n",
      "   1.03202196e-01  2.07539164e-01]\n",
      " [ 1.92618026e-01  4.41186299e-01 -2.71398094e-01 -2.24655207e-01\n",
      "  -2.45063795e-01 -2.15548826e-02  2.47164688e-01 -2.53639413e-01\n",
      "  -5.67730275e-02  1.30522922e-01]\n",
      " [ 2.88387154e-01  3.25825370e-01 -1.49633498e-01 -1.30155300e-01\n",
      "  -6.71435133e-02 -6.87234308e-02 -1.93696550e-01  6.56174356e-02\n",
      "   1.06397178e-01 -3.63984578e-02]\n",
      " [ 1.98672041e-01  2.80172309e-01 -1.16180765e-01 -1.28267287e-02\n",
      "   5.47559757e-02 -1.00744243e-01 -3.75403041e-01  3.85286457e-01\n",
      "   1.88153796e-01 -2.89274359e-01]\n",
      " [ 4.45721072e-01 -2.99608635e-01  3.16208858e-02 -1.66388318e-01\n",
      "   1.89941266e-03 -5.00255893e-02  2.16280871e-01 -1.28638419e-01\n",
      "   3.92164696e-01 -2.88403837e-01]\n",
      " [ 4.15363802e-01 -8.33385737e-02 -1.15117323e-02  5.60154281e-03\n",
      "   1.86911645e-01  5.14323042e-02  1.13821408e-02  2.13963323e-01\n",
      "   2.29166780e-01  3.73606745e-01]\n",
      " [ 3.29637675e-01 -5.49168893e-02 -3.58662300e-02  2.44539220e-01\n",
      "   5.92031036e-02  9.37098117e-02  3.30584456e-01  3.36608643e-01\n",
      "  -1.98132820e-01  5.27494896e-02]\n",
      " [ 1.99422919e-01  3.03466530e-01 -1.44131905e-01 -1.00052898e-01\n",
      "  -3.96016128e-02 -4.56038584e-02 -8.80587903e-02  1.82430445e-02\n",
      "   6.09866545e-02 -5.01695217e-02]\n",
      " [ 2.08204928e-01  4.22078389e-01 -2.18938979e-01 -1.45874022e-01\n",
      "  -1.26414706e-01  3.77154396e-02  1.38454688e-01 -8.37539827e-02\n",
      "   9.71322239e-02  1.86559047e-02]\n",
      " [ 1.73049613e-01  1.41938979e-01 -2.46328443e-02 -2.38017079e-02\n",
      "   1.18024750e-01  3.03698273e-03  4.89444569e-02  2.05304754e-01\n",
      "  -5.31293813e-02  1.47186005e-02]\n",
      " [ 7.70305286e-02  1.45550499e-01  3.70823398e-01 -3.05882729e-02\n",
      "  -2.20517288e-01  2.80161507e-01 -3.66730235e-02  1.17647107e-01\n",
      "   7.86525015e-02 -5.50793716e-05]]\n",
      "(54, 10)\n"
     ]
    }
   ],
   "source": [
    "print(lsa_top)\n",
    "print(lsa_top.shape)  # (no_of_doc*no_of_topics)"
   ]
  },
  {
   "cell_type": "code",
   "execution_count": 19,
   "metadata": {
    "_uuid": "2a259e5f3b8c11118368439eea8de0faa8b7a1c2",
    "colab": {
     "base_uri": "https://localhost:8080/"
    },
    "id": "d4dvIGIGxtAI",
    "outputId": "bb2c5135-c5c9-4b8b-9fc7-129a3c1e2a13"
   },
   "outputs": [
    {
     "name": "stdout",
     "output_type": "stream",
     "text": [
      "Document 0 :\n",
      "Topic  0  :  22.220543942864566\n",
      "Topic  1  :  3.314841700717746\n",
      "Topic  2  :  -0.6884461775617652\n",
      "Topic  3  :  -0.1911300774105242\n",
      "Topic  4  :  14.66972451335648\n",
      "Topic  5  :  6.077519444028368\n",
      "Topic  6  :  -4.743309304564321\n",
      "Topic  7  :  6.379538009570711\n",
      "Topic  8  :  17.48212149690196\n",
      "Topic  9  :  20.341932946942826\n"
     ]
    }
   ],
   "source": [
    "l=lsa_top[0]\n",
    "print(\"Document 0 :\")\n",
    "for i,topic in enumerate(l):\n",
    "  print(\"Topic \",i,\" : \",topic*100)\n",
    "  \n"
   ]
  },
  {
   "cell_type": "markdown",
   "metadata": {
    "_uuid": "2153bcbf45e7623efc213bb94f0dbba377ff34c3",
    "id": "SLXnKO4bKHeG"
   },
   "source": [
    "Mirip dengan dokumen lain kita bisa melakukan ini. Namun perhatikan bahwa nilai tidak menambah 1 seperti di LSA itu bukan kemungkinan topik dalam dokumen."
   ]
  },
  {
   "cell_type": "code",
   "execution_count": 20,
   "metadata": {
    "_uuid": "61bb8ff8b4b6cf0cd2fcde7890f3a3ebb8980452",
    "colab": {
     "base_uri": "https://localhost:8080/"
    },
    "id": "AI2kOuwitOGp",
    "outputId": "7d5c6ce7-3733-4e3e-de68-5bf4eb2cb408"
   },
   "outputs": [
    {
     "name": "stdout",
     "output_type": "stream",
     "text": [
      "(10, 1000)\n",
      "[[ 0.00792718  0.00933611  0.0031642  ...  0.00386162  0.02434413\n",
      "   0.00382636]\n",
      " [ 0.00019091  0.02311388  0.00960149 ... -0.00558516 -0.01029739\n",
      "  -0.00029652]\n",
      " [-0.00446586 -0.0118894  -0.00419655 ...  0.00062145  0.0058631\n",
      "  -0.00014877]\n",
      " ...\n",
      " [-0.0030044   0.00286443  0.02186372 ... -0.00397603 -0.03408852\n",
      "   0.00996036]\n",
      " [ 0.02651734  0.00797101  0.01096837 ...  0.01246708  0.05133031\n",
      "  -0.00432853]\n",
      " [ 0.01065498 -0.00601598 -0.01851665 ... -0.01011288 -0.02414963\n",
      "  -0.00398135]]\n"
     ]
    }
   ],
   "source": [
    "print(lsa_model.components_.shape) # (no_of_topics*no_of_words)\n",
    "print(lsa_model.components_)"
   ]
  },
  {
   "cell_type": "markdown",
   "metadata": {
    "_uuid": "a289f6e017d0c573d20ed386582df71437fab5cc",
    "id": "03pgcRRHKHeH"
   },
   "source": [
    "Proses untuk mendapatkan daftar kata-kata penting untuk masing-masing dari 10 topik seperti yang ditunjukkan. Untuk kesederhanaan di sini saya telah menunjukkan 10 kata untuk setiap topik."
   ]
  },
  {
   "cell_type": "code",
   "execution_count": 21,
   "metadata": {
    "_uuid": "c9860197f6d11e5583629cca322e19a93d4c0350",
    "colab": {
     "base_uri": "https://localhost:8080/"
    },
    "id": "GMMmSTbQqfdz",
    "outputId": "58115cd8-48d7-4d8e-f8fe-0d2edb12c06c"
   },
   "outputs": [
    {
     "name": "stdout",
     "output_type": "stream",
     "text": [
      "Topic 0: \n",
      "variabel keputusan pembelian produk penelitian berpengaruh konsumen harga merek bangkalan \n",
      "\n",
      "Topic 1: \n",
      "kerja karyawan perusahaan pengembangan pegawai kompensasi saham prestasi pesan produktivitas \n",
      "\n",
      "Topic 2: \n",
      "saham perusahaan split stock ratio return harga perbedaan akuisisi terdaftar \n",
      "\n",
      "Topic 3: \n",
      "pesan iklan konsumen kartu seluler langsung beli struktur televisi format \n",
      "\n",
      "Topic 4: \n",
      "kepuasan kualitas ratio pelayanan akademik pelanggan persepsi sepeda motor perusahaan \n",
      "\n",
      "Topic 5: \n",
      "saham kepuasan pesan split stock harga pelayanan kualitas akademik pelanggan \n",
      "\n",
      "Topic 6: \n",
      "kerja online faktor produk stressor trunojoyo madura universitas mahasiswa akademik \n",
      "\n",
      "Topic 7: \n",
      "kompensasi online langsung mahasiswa trunojoyo madura universitas finansial nilai kinerja \n",
      "\n",
      "Topic 8: \n",
      "merek motor honda persepsi sepeda kompensasi vario psikologis agung surya \n",
      "\n",
      "Topic 9: \n",
      "merek persepsi kerja variabel perilaku konsumen budaya cair indomilk susu \n",
      "\n"
     ]
    }
   ],
   "source": [
    "# most important words for each topic\n",
    "vocab = vect.get_feature_names()\n",
    "\n",
    "for i, comp in enumerate(lsa_model.components_):\n",
    "    vocab_comp = zip(vocab, comp)\n",
    "    sorted_words = sorted(vocab_comp, key= lambda x:x[1], reverse=True)[:10]\n",
    "    print(\"Topic \"+str(i)+\": \")\n",
    "    for t in sorted_words:\n",
    "        print(t[0],end=\" \")\n",
    "    print(\"\\n\")\n",
    "         "
   ]
  },
  {
   "cell_type": "markdown",
   "metadata": {
    "_uuid": "2898911f7af52671923cf6bbc8cab6bc7871aa59",
    "id": "gmMeb4METhm2"
   },
   "source": [
    "#### 2. Latent Dirichlet Allocation (LDA)  "
   ]
  },
  {
   "cell_type": "markdown",
   "metadata": {
    "_uuid": "dd861ec68f8272be78421f8bd76b98793009e836",
    "id": "dVbE_EVbKHeH"
   },
   "source": [
    "**Latent Dirichlet Allocation** merupakan model generatif yaitu model yang menghasilkan distribusi output dan input didasarkan pada variabel-variabel latent.\n",
    "\n",
    "LDA adalah teknik yang paling populer. Topik kemudian menghasilkan kata berdasarkan distribusi probabilitasnya. Mengingat kumpulan data dokumen, LDA mundur dan mencoba mencari tahu topik apa yang akan membuat dokumen tersebut di tempat pertama.\n",
    "\n",
    "Untuk memahami matematika sepertinya diperlukan pengetahuan tentang distribusi Dirichlet (distribusi distribusi) yang cukup rumit dan ditinggalkan untuk saat ini."
   ]
  },
  {
   "cell_type": "markdown",
   "metadata": {
    "id": "ipwPwZGVinIK"
   },
   "source": [
    "Rumus LDA :"
   ]
  },
  {
   "cell_type": "markdown",
   "metadata": {
    "id": "MSiAngMRif5i"
   },
   "source": [
    "$\\begin{equation}\n",
    "p(D \\mid a, \\beta)=\\prod_{d=1}^{M} \\int p\\left(\\theta_{\\mathrm{d}} \\mid \\alpha\\right)\\left(\\prod_{n=1}^{N_{\\mathrm{d}}} \\sum_{Z_{\\mathrm{dn}}} p\\left(Z_{\\mathrm{dn}} \\mid \\theta_{\\mathrm{d}}\\right) p\\left(W_{\\mathrm{dn}} \\mid Z_{\\mathrm{dn}}, \\beta\\right)\\right) d \\theta_{\\mathrm{d}}\n",
    "\\end{equation}$"
   ]
  },
  {
   "cell_type": "code",
   "execution_count": 22,
   "metadata": {
    "_uuid": "b21a29802cac8f469c65df49ba0ef04f592f3202",
    "id": "yPJFHVxxTiwh"
   },
   "outputs": [],
   "source": [
    "from sklearn.decomposition import LatentDirichletAllocation\n",
    "lda_model=LatentDirichletAllocation(n_components=10,learning_method='online',random_state=42,max_iter=1) \n",
    "# n_components is the number of topics"
   ]
  },
  {
   "cell_type": "code",
   "execution_count": 23,
   "metadata": {
    "_uuid": "8c0169b02a356e8cf8583218437d23f549c1e3da",
    "id": "aeUPTUUIazvB"
   },
   "outputs": [],
   "source": [
    "lda_top=lda_model.fit_transform(vect_text)"
   ]
  },
  {
   "cell_type": "code",
   "execution_count": 24,
   "metadata": {
    "_uuid": "77425315af5c000fa30caefd6dcebb70c2970cfa",
    "colab": {
     "base_uri": "https://localhost:8080/"
    },
    "id": "h8LzsFixdkBt",
    "outputId": "fe9dcc79-b1d2-4fd9-d231-200593dff910"
   },
   "outputs": [
    {
     "name": "stdout",
     "output_type": "stream",
     "text": [
      "(54, 10)\n",
      "[[0.01737118 0.0173716  0.01737105 0.01737161 0.01737102 0.84365687\n",
      "  0.01737133 0.01737125 0.01737292 0.01737116]\n",
      " [0.01445499 0.01445489 0.01445487 0.01445518 0.01445489 0.01445479\n",
      "  0.86990462 0.01445497 0.01445526 0.01445554]\n",
      " [0.01825727 0.01825702 0.01825692 0.01825671 0.83568783 0.01825659\n",
      "  0.01825685 0.0182566  0.01825743 0.01825678]\n",
      " [0.01441488 0.01441505 0.0144149  0.01441498 0.01441483 0.01441488\n",
      "  0.01441458 0.01441486 0.87026633 0.01441471]\n",
      " [0.01882083 0.01882081 0.01882068 0.0188209  0.0188208  0.01882126\n",
      "  0.0188207  0.01882049 0.83061278 0.01882075]\n",
      " [0.01586103 0.01586085 0.01586067 0.8572508  0.01586098 0.01586087\n",
      "  0.01586109 0.01586088 0.01586192 0.01586091]\n",
      " [0.0151164  0.01511628 0.01511657 0.86395311 0.01511634 0.01511631\n",
      "  0.01511634 0.01511633 0.0151162  0.01511612]\n",
      " [0.01613198 0.01613213 0.01613192 0.01613207 0.0161317  0.0161328\n",
      "  0.01613203 0.85481114 0.01613212 0.01613212]\n",
      " [0.01653696 0.0165371  0.01653706 0.01653715 0.01653702 0.01653713\n",
      "  0.01653729 0.85116565 0.01653698 0.01653766]\n",
      " [0.01514217 0.01514194 0.01514213 0.01514243 0.01514224 0.01514215\n",
      "  0.01514213 0.01514265 0.86371965 0.01514251]\n",
      " [0.0160538  0.01605392 0.01605368 0.85551465 0.01605387 0.0160538\n",
      "  0.01605433 0.01605382 0.01605402 0.01605411]\n",
      " [0.01260794 0.01260784 0.01260935 0.01260793 0.01260798 0.01260779\n",
      "  0.01260785 0.01260788 0.0126078  0.88652765]\n",
      " [0.01635053 0.01635071 0.01635015 0.85284579 0.01635043 0.01635037\n",
      "  0.01635055 0.01635059 0.01635051 0.01635036]\n",
      " [0.01736862 0.01736864 0.01736841 0.8436786  0.01736878 0.01736849\n",
      "  0.01736878 0.01736903 0.01736876 0.01737189]\n",
      " [0.01497043 0.0149704  0.01497061 0.01497143 0.01497055 0.01497034\n",
      "  0.01497058 0.01497048 0.01497051 0.86526467]\n",
      " [0.01308894 0.01308883 0.01308889 0.01308884 0.01308895 0.01308892\n",
      "  0.01308927 0.01308895 0.01308892 0.88219949]\n",
      " [0.01411858 0.01411858 0.01411847 0.01411853 0.01411859 0.01411849\n",
      "  0.01411859 0.87293244 0.01411898 0.01411874]\n",
      " [0.01537409 0.01537401 0.01537415 0.01537416 0.01537427 0.86163224\n",
      "  0.01537412 0.01537422 0.01537436 0.01537437]\n",
      " [0.01583074 0.01583143 0.01583035 0.85752156 0.01583097 0.01583099\n",
      "  0.01583095 0.01583096 0.01583101 0.01583104]\n",
      " [0.01692106 0.01692083 0.01692067 0.01692131 0.01692097 0.01692089\n",
      "  0.01692086 0.0169211  0.01692154 0.84771078]\n",
      " [0.01571198 0.01571215 0.85859083 0.01571196 0.01571204 0.01571207\n",
      "  0.01571216 0.01571243 0.01571214 0.01571223]\n",
      " [0.01633301 0.01633286 0.01633261 0.0163329  0.0163332  0.0163328\n",
      "  0.01633283 0.01633294 0.85300349 0.01633337]\n",
      " [0.01786949 0.01786923 0.01786931 0.01786935 0.01786963 0.01786915\n",
      "  0.83917532 0.01786942 0.01786949 0.01786962]\n",
      " [0.01291096 0.01291109 0.01291079 0.01291105 0.0129115  0.01291091\n",
      "  0.01291108 0.88380076 0.01291097 0.01291089]\n",
      " [0.01531555 0.01531539 0.01531523 0.86215942 0.01531562 0.01531564\n",
      "  0.01531567 0.01531556 0.01531565 0.01531626]\n",
      " [0.01690365 0.01690349 0.01690353 0.01690354 0.01690387 0.01690391\n",
      "  0.01690385 0.84786611 0.01690426 0.01690378]\n",
      " [0.01588959 0.01588973 0.01588916 0.85699348 0.01588997 0.01588937\n",
      "  0.01588959 0.01588981 0.01588968 0.01588963]\n",
      " [0.01374667 0.01374668 0.01374665 0.01374674 0.01374694 0.01374664\n",
      "  0.01374655 0.01374665 0.01374665 0.87627985]\n",
      " [0.01598612 0.01598612 0.01598649 0.01598618 0.01598621 0.01598612\n",
      "  0.85612496 0.01598591 0.01598605 0.01598584]\n",
      " [0.01798254 0.01798204 0.01798198 0.01798204 0.01798204 0.01798214\n",
      "  0.01798213 0.0179818  0.83816126 0.01798203]\n",
      " [0.01554812 0.01554768 0.01554777 0.01554817 0.01554762 0.01554783\n",
      "  0.01554765 0.01554795 0.01554794 0.86006927]\n",
      " [0.01730708 0.01730651 0.01730612 0.017307   0.01730671 0.01730657\n",
      "  0.84424014 0.01730683 0.01730651 0.01730654]\n",
      " [0.01705617 0.01705641 0.01705627 0.01705636 0.01705634 0.01705635\n",
      "  0.01705614 0.01705635 0.01705645 0.84649315]\n",
      " [0.01442737 0.01442739 0.01442719 0.87015282 0.01442713 0.01442736\n",
      "  0.0144273  0.01442754 0.01442837 0.01442754]\n",
      " [0.01990391 0.82086582 0.01990378 0.0199035  0.01990351 0.01990361\n",
      "  0.01990368 0.01990403 0.01990414 0.01990403]\n",
      " [0.0160842  0.01608396 0.01608394 0.01608407 0.016084   0.85524411\n",
      "  0.01608381 0.01608396 0.01608384 0.01608412]\n",
      " [0.01546426 0.0154642  0.01546392 0.01546423 0.01546425 0.01546411\n",
      "  0.01546428 0.01546418 0.86082209 0.01546449]\n",
      " [0.85154498 0.01649479 0.01649464 0.01649503 0.01649472 0.01649506\n",
      "  0.01649486 0.01649489 0.01649506 0.01649597]\n",
      " [0.01901601 0.01901584 0.01901582 0.0190163  0.01901591 0.01901605\n",
      "  0.01901596 0.0190158  0.82885628 0.01901604]\n",
      " [0.02028186 0.02028166 0.02028158 0.02028181 0.02028159 0.81746496\n",
      "  0.02028143 0.02028165 0.02028165 0.0202818 ]\n",
      " [0.01453408 0.01453402 0.01453407 0.0145348  0.01453405 0.01453389\n",
      "  0.01453407 0.01453418 0.01453414 0.8691927 ]\n",
      " [0.01674649 0.01674617 0.01674615 0.01674626 0.01674652 0.01674632\n",
      "  0.01674699 0.01674637 0.01674669 0.84928205]\n",
      " [0.01964459 0.01964545 0.01964404 0.01964438 0.01964457 0.82319892\n",
      "  0.01964414 0.01964465 0.01964435 0.01964488]\n",
      " [0.01672495 0.01672738 0.01672477 0.01672558 0.01672449 0.84947378\n",
      "  0.0167246  0.0167248  0.01672481 0.01672483]\n",
      " [0.02000824 0.81992538 0.02000799 0.02000815 0.02000836 0.02000793\n",
      "  0.02000833 0.02000872 0.0200083  0.0200086 ]\n",
      " [0.0146268  0.01462681 0.01462984 0.01462701 0.01462699 0.01462696\n",
      "  0.01462674 0.8683551  0.01462698 0.01462679]\n",
      " [0.0213953  0.02139518 0.02139667 0.02139529 0.02139508 0.02139497\n",
      "  0.02139486 0.02139547 0.80744262 0.02139457]\n",
      " [0.01653582 0.01653592 0.01653568 0.01653886 0.01653603 0.01653606\n",
      "  0.01653586 0.0165359  0.85117388 0.01653598]\n",
      " [0.01428741 0.01428722 0.01428717 0.01428758 0.01428733 0.01428736\n",
      "  0.01428721 0.01428738 0.87141354 0.01428779]\n",
      " [0.01755298 0.01755295 0.01755264 0.01755291 0.84202184 0.01755292\n",
      "  0.01755289 0.017553   0.01755471 0.01755318]\n",
      " [0.83838651 0.01795682 0.01795743 0.01795723 0.01795727 0.01795715\n",
      "  0.01795681 0.01795682 0.01795695 0.01795702]\n",
      " [0.01242718 0.88815372 0.01242723 0.01242757 0.01242741 0.01242732\n",
      "  0.01242726 0.01242777 0.01242726 0.01242729]\n",
      " [0.84399349 0.01733413 0.01733382 0.01733397 0.01733414 0.01733387\n",
      "  0.01733408 0.0173341  0.01733434 0.01733406]\n",
      " [0.01364933 0.01364921 0.01364945 0.01364944 0.01364933 0.01364936\n",
      "  0.87715578 0.01364925 0.01364961 0.01364924]]\n"
     ]
    }
   ],
   "source": [
    "print(lda_top.shape)  # (no_of_doc,no_of_topics)\n",
    "print(lda_top)\n"
   ]
  },
  {
   "cell_type": "code",
   "execution_count": 25,
   "metadata": {
    "_uuid": "2fc450b8316e62d050eb702b65eddbb1e898248f",
    "colab": {
     "base_uri": "https://localhost:8080/"
    },
    "id": "YNgP0S0eeVuO",
    "outputId": "f7e6094c-126c-4fda-ecdc-f472f45402e8"
   },
   "outputs": [
    {
     "name": "stdout",
     "output_type": "stream",
     "text": [
      "1.0\n"
     ]
    }
   ],
   "source": [
    "sum=0\n",
    "for i in lda_top[0]:\n",
    "  sum=sum+i\n",
    "print(sum)  "
   ]
  },
  {
   "cell_type": "markdown",
   "metadata": {
    "_uuid": "0f6d8a55e8a513a9af61ae480eae5a0e2135f182",
    "id": "08NFUE4pKHeJ"
   },
   "source": [
    "Perhatikan bahwa nilai pada baris tertentu ditambahkan ke 1. Ini karena setiap nilai menunjukkan % kontribusi topik terkait dalam dokumen."
   ]
  },
  {
   "cell_type": "code",
   "execution_count": 26,
   "metadata": {
    "_uuid": "d896b8fcf2c398367de4e7b7142e144fb4944f2d",
    "colab": {
     "base_uri": "https://localhost:8080/"
    },
    "id": "Z6WmZLp3ehbY",
    "outputId": "d45dcd47-9de1-4564-c147-9d146220ba23"
   },
   "outputs": [
    {
     "name": "stdout",
     "output_type": "stream",
     "text": [
      "Document 0: \n",
      "Topic  0 :  1.73711778410479 %\n",
      "Topic  1 :  1.7371604484105 %\n",
      "Topic  2 :  1.737105434534034 %\n",
      "Topic  3 :  1.7371607001360794 %\n",
      "Topic  4 :  1.737102498411245 %\n",
      "Topic  5 :  84.36568669782066 %\n",
      "Topic  6 :  1.7371326461395058 %\n",
      "Topic  7 :  1.7371252350514992 %\n",
      "Topic  8 :  1.737292182022166 %\n",
      "Topic  9 :  1.7371163733695214 %\n"
     ]
    }
   ],
   "source": [
    "# composition of doc 0 for eg\n",
    "print(\"Document 0: \")\n",
    "for i,topic in enumerate(lda_top[0]):\n",
    "  print(\"Topic \",i,\": \",topic*100,\"%\")"
   ]
  },
  {
   "cell_type": "markdown",
   "metadata": {
    "_uuid": "d24927b415ef64338a4b99e81c9cafd5225dfae5",
    "id": "NVgtw_L_g8N2"
   },
   "source": [
    "Seperti yang kita lihat, Topik 7 & 8 dominan ada di dokumen 0."
   ]
  },
  {
   "cell_type": "code",
   "execution_count": 27,
   "metadata": {
    "_uuid": "3ee132a423ca0bfe3107fa3dd2652d6c33d5bc4d",
    "colab": {
     "base_uri": "https://localhost:8080/"
    },
    "id": "6OFxmyReiZIU",
    "outputId": "3cfd9baa-02a3-498c-ade6-aff0f2b3a988"
   },
   "outputs": [
    {
     "name": "stdout",
     "output_type": "stream",
     "text": [
      "[[0.87031061 0.82647612 0.81044019 ... 0.92735618 0.7563122  0.84881491]\n",
      " [0.91892652 0.87067828 0.62901976 ... 0.82639945 0.85778517 1.05082196]\n",
      " [0.68888345 0.82668679 0.89760878 ... 0.933666   0.77714309 0.80835125]\n",
      " ...\n",
      " [0.75684544 0.92851578 0.85334304 ... 0.79899816 0.67643373 0.82115471]\n",
      " [0.93761193 0.76222523 0.80687714 ... 0.8931094  0.79560385 0.81931535]\n",
      " [0.75327372 0.76478811 0.93785775 ... 0.87075432 0.69845754 0.72555992]]\n",
      "(10, 1000)\n"
     ]
    }
   ],
   "source": [
    "print(lda_model.components_)\n",
    "print(lda_model.components_.shape)  # (no_of_topics*no_of_words)"
   ]
  },
  {
   "cell_type": "markdown",
   "metadata": {
    "_uuid": "8bf169b07cefbe2cd8e36bc1e2bd65ca7c398374",
    "id": "NoEr9qt1jgsM"
   },
   "source": [
    "Kata-kata paling penting untuk sebuah topik. (katakan 10 kali ini)"
   ]
  },
  {
   "cell_type": "code",
   "execution_count": 28,
   "metadata": {
    "_uuid": "5c13c5563657ac5103a33615272320065542fb40",
    "colab": {
     "base_uri": "https://localhost:8080/"
    },
    "id": "hKJHM0C-l0an",
    "outputId": "efa60cd6-55c5-43ed-9c2a-7275e1c33da7"
   },
   "outputs": [
    {
     "name": "stdout",
     "output_type": "stream",
     "text": [
      "Topic 0: \n",
      "altman gresik pesan si parsial toko instrumen sociology lingkungan proporsi \n",
      "\n",
      "Topic 1: \n",
      "kerja nonfinansial keamanan keywords yustina kepercayaan berpenampilan jalur faktor rm \n",
      "\n",
      "Topic 2: \n",
      "88 sejahtera publisitas trunjoyo permai 679 aksesibilitas similarity score pemasaran \n",
      "\n",
      "Topic 3: \n",
      "sukses bersifat jupiter sosial meningkat dinas teridiri kartu manajemen soto \n",
      "\n",
      "Topic 4: \n",
      "menyebarkan kecuali pengambilan diteliti 00 helmi lamongan menemui peranan klasik \n",
      "\n",
      "Topic 5: \n",
      "perusahaan berpenampilan test sample spi 2007 indonesia akuisisi madura kandidat \n",
      "\n",
      "Topic 6: \n",
      "liquid pribanus layanan public gerai kehidupan penyedap piutang statistic pesan \n",
      "\n",
      "Topic 7: \n",
      "aman jalan influence sampling mengidentifikasi pesan prambon hasilnya kebenaran signifikansi \n",
      "\n",
      "Topic 8: \n",
      "split saham produk linier instruktur tingkah kompensasi menginvestasikan hipotesis surya \n",
      "\n",
      "Topic 9: \n",
      "harga payout supra variabel such also 64 rm akademik firm \n",
      "\n"
     ]
    }
   ],
   "source": [
    "# most important words for each topic\n",
    "vocab = vect.get_feature_names()\n",
    "\n",
    "for i, comp in enumerate(lda_model.components_):\n",
    "    vocab_comp = zip(vocab, comp)\n",
    "    sorted_words = sorted(vocab_comp, key= lambda x:x[1], reverse=True)[:10]\n",
    "    print(\"Topic \"+str(i)+\": \")\n",
    "    for t in sorted_words:\n",
    "        print(t[0],end=\" \")\n",
    "    print(\"\\n\")"
   ]
  },
  {
   "cell_type": "markdown",
   "metadata": {
    "_uuid": "854f0eb88cf78923db8137a2f41581eb9bbd5592",
    "id": "AoqfjEvJKHeK"
   },
   "source": [
    "Untuk memvisualisasikan kata-kata dalam suatu topik dengan lebih baik, kita dapat melihat kata cloud. Untuk setiap topik, 50 kata teratas diplot."
   ]
  },
  {
   "cell_type": "code",
   "execution_count": 29,
   "metadata": {
    "colab": {
     "base_uri": "https://localhost:8080/"
    },
    "id": "a72Ubr8tKHeK",
    "outputId": "93ccaad2-cc2a-44ed-efde-e8b10e6930ec"
   },
   "outputs": [
    {
     "name": "stdout",
     "output_type": "stream",
     "text": [
      "Collecting wordcloud\n",
      "  Downloading wordcloud-1.8.2.2-cp39-cp39-win_amd64.whl (153 kB)\n",
      "     ------------------------------------ 153.1/153.1 kB 703.6 kB/s eta 0:00:00\n",
      "Requirement already satisfied: matplotlib in c:\\users\\windows 10\\appdata\\local\\programs\\python\\python39\\lib\\site-packages (from wordcloud) (3.3.4)\n",
      "Requirement already satisfied: numpy>=1.6.1 in c:\\users\\windows 10\\appdata\\local\\programs\\python\\python39\\lib\\site-packages (from wordcloud) (1.20.1)\n",
      "Requirement already satisfied: pillow in c:\\users\\windows 10\\appdata\\local\\programs\\python\\python39\\lib\\site-packages (from wordcloud) (8.1.2)\n",
      "Requirement already satisfied: kiwisolver>=1.0.1 in c:\\users\\windows 10\\appdata\\local\\programs\\python\\python39\\lib\\site-packages (from matplotlib->wordcloud) (1.3.1)\n",
      "Requirement already satisfied: python-dateutil>=2.1 in c:\\users\\windows 10\\appdata\\local\\programs\\python\\python39\\lib\\site-packages (from matplotlib->wordcloud) (2.8.2)\n",
      "Requirement already satisfied: pyparsing!=2.0.4,!=2.1.2,!=2.1.6,>=2.0.3 in c:\\users\\windows 10\\appdata\\local\\programs\\python\\python39\\lib\\site-packages (from matplotlib->wordcloud) (2.4.7)\n",
      "Requirement already satisfied: cycler>=0.10 in c:\\users\\windows 10\\appdata\\local\\programs\\python\\python39\\lib\\site-packages (from matplotlib->wordcloud) (0.10.0)\n",
      "Requirement already satisfied: six in c:\\users\\windows 10\\appdata\\local\\programs\\python\\python39\\lib\\site-packages (from cycler>=0.10->matplotlib->wordcloud) (1.16.0)\n",
      "Installing collected packages: wordcloud\n",
      "Successfully installed wordcloud-1.8.2.2\n"
     ]
    }
   ],
   "source": [
    "! pip install wordcloud"
   ]
  },
  {
   "cell_type": "code",
   "execution_count": 30,
   "metadata": {
    "_uuid": "5221ae4de021107ef757b87d45053460e50582c8",
    "id": "_ac73PUhmZmn"
   },
   "outputs": [],
   "source": [
    "from wordcloud import WordCloud\n",
    "# Generate a word cloud image for given topic\n",
    "\n",
    "def draw_word_cloud(index):\n",
    "  imp_words_topic=\"\"\n",
    "  comp=lda_model.components_[index]\n",
    "  vocab_comp = zip(vocab, comp)\n",
    "  sorted_words = sorted(vocab_comp, key= lambda x:x[1], reverse=True)[:50]\n",
    "  for word in sorted_words:\n",
    "    imp_words_topic=imp_words_topic+\" \"+word[0]\n",
    "\n",
    "  wordcloud = WordCloud(width=600, height=400).generate(imp_words_topic)\n",
    "  plt.figure( figsize=(5,5))\n",
    "  plt.imshow(wordcloud)\n",
    "  plt.axis(\"off\")\n",
    "  plt.tight_layout()\n",
    "  plt.show()"
   ]
  },
  {
   "cell_type": "code",
   "execution_count": 31,
   "metadata": {
    "_uuid": "e5246db8bb1b751a1f3b96bb65d4da9e34dfc2ba",
    "colab": {
     "base_uri": "https://localhost:8080/",
     "height": 254
    },
    "id": "-tD4nZdRqnAk",
    "outputId": "75c09929-afde-4ea6-abd4-4f63e6c350b3"
   },
   "outputs": [
    {
     "data": {
      "image/png": "[encoded data removed]",
      "text/plain": [
       "<Figure size 360x360 with 1 Axes>"
      ]
     },
     "metadata": {},
     "output_type": "display_data"
    }
   ],
   "source": [
    "# topic 0\n",
    "draw_word_cloud(0)"
   ]
  },
  {
   "cell_type": "code",
   "execution_count": 32,
   "metadata": {
    "_uuid": "74872c17b12680171090690f62ce77019e03ef52",
    "colab": {
     "base_uri": "https://localhost:8080/",
     "height": 254
    },
    "id": "Jz_zGbSws1ns",
    "outputId": "efc19fca-d3c9-4f75-9907-e8ed54d2ebc8"
   },
   "outputs": [
    {
     "data": {
      "image/png": "[encoded data removed]",
      "text/plain": [
       "<Figure size 360x360 with 1 Axes>"
      ]
     },
     "metadata": {},
     "output_type": "display_data"
    }
   ],
   "source": [
    "# topic 1\n",
    "draw_word_cloud(1)  # ..."
   ]
  }
 ],
 "metadata": {
  "colab": {
   "name": "190411100114_Venia Anisya Rakhmanda_Modelling LSA.ipynb",
   "provenance": []
  },
  "kernelspec": {
   "display_name": "Python 3",
   "language": "python",
   "name": "python3"
  },
  "language_info": {
   "codemirror_mode": {
    "name": "ipython",
    "version": 3
   },
   "file_extension": ".py",
   "mimetype": "text/x-python",
   "name": "python",
   "nbconvert_exporter": "python",
   "pygments_lexer": "ipython3",
   "version": "3.9.0"
  }
 },
 "nbformat": 4,
 "nbformat_minor": 1
}
